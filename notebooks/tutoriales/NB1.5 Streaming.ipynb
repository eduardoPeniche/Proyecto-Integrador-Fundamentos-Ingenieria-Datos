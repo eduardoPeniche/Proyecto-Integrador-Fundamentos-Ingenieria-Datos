{
 "cells": [
  {
   "cell_type": "markdown",
   "metadata": {},
   "source": [
    "# NB1.5 — Streaming vs Batch (WebSockets & Polling)\n",
    "\n",
    "En esta práctica implementamos **Streaming** con WebSockets y **Batch frecuente** con HTTP Polling. Guardaremos todo en **JSON Lines** en `../../data/` y compararemos latencia y continuidad.\n",
    "\n",
    "**Objetivos**\n",
    "- Entender diferencias clave **Batch vs Streaming**.\n",
    "- Ejecutar un cliente **WebSocket** para ingesta continua.\n",
    "- Ejecutar **HTTP Polling** como micro-batch.\n",
    "- Comparar resultados en pandas.\n"
   ]
  },
  {
   "cell_type": "markdown",
   "metadata": {},
   "source": [
    "## 1) Dependencias\n",
    "Instalamos librerías requeridas para los scripts en `src/streaming/`."
   ]
  },
  {
   "cell_type": "code",
   "execution_count": 1,
   "metadata": {
    "id": "deps"
   },
   "outputs": [],
   "source": [
    "!pip install -q websockets requests pandas"
   ]
  },
  {
   "cell_type": "markdown",
   "metadata": {},
   "source": [
    "## 2) Streaming (WebSocket)\n",
    "\n",
    "**Salida:** `../../data/stream_ws_YYYY-MM-DD.jsonl`"
   ]
  },
  {
   "cell_type": "code",
   "execution_count": 3,
   "metadata": {
    "id": "stream"
   },
   "outputs": [
    {
     "name": "stdout",
     "output_type": "stream",
     "text": [
      "/Users/eduardo/Developer/TSW/fundamentos/fundamentos-ingenieria-datos/notebooks/tutoriales/../../src/streaming/stream_dual_ws.py:8: DeprecationWarning: websockets.exceptions.InvalidStatusCode is deprecated\n",
      "  from websockets.exceptions import ConnectionClosed, InvalidStatusCode\n",
      "[DONE] Eventos: 150\n",
      "/Users/eduardo/Developer/TSW/fundamentos/fundamentos-ingenieria-datos/data/stream_ws_2025-09-29.jsonl\n"
     ]
    }
   ],
   "source": [
    "# Limita duración/eventos para la clase\n",
    "!WS_MAX_EVENTS=150 WS_MAX_SECONDS=120 python ../../src/streaming/stream_dual_ws.py"
   ]
  },
  {
   "cell_type": "markdown",
   "metadata": {},
   "source": [
    "## 3) Polling (HTTP)\n",
    "\n",
    "**Salida:** `../../data/poll_bitcoin_YYYY-MM-DD.jsonl`"
   ]
  },
  {
   "cell_type": "code",
   "execution_count": 4,
   "metadata": {
    "id": "poll"
   },
   "outputs": [
    {
     "name": "stdout",
     "output_type": "stream",
     "text": [
      "[POLL] 1/20 -> {'ts': '2025-09-30T04:33:18.039576+00:00', 'source': 'binance', 'instrument': 'BTCUSDT', 'price_usd': 114147.47}\n",
      "[POLL] 2/20 -> {'ts': '2025-09-30T04:33:23.723831+00:00', 'source': 'binance', 'instrument': 'BTCUSDT', 'price_usd': 114147.47}\n",
      "[POLL] 3/20 -> {'ts': '2025-09-30T04:33:29.100095+00:00', 'source': 'binance', 'instrument': 'BTCUSDT', 'price_usd': 114147.47}\n",
      "[POLL] 4/20 -> {'ts': '2025-09-30T04:33:34.453986+00:00', 'source': 'binance', 'instrument': 'BTCUSDT', 'price_usd': 114147.48}\n",
      "[POLL] 5/20 -> {'ts': '2025-09-30T04:33:39.819876+00:00', 'source': 'binance', 'instrument': 'BTCUSDT', 'price_usd': 114170.45}\n",
      "[POLL] 6/20 -> {'ts': '2025-09-30T04:33:45.173163+00:00', 'source': 'binance', 'instrument': 'BTCUSDT', 'price_usd': 114185.78}\n",
      "[POLL] 7/20 -> {'ts': '2025-09-30T04:33:50.525958+00:00', 'source': 'binance', 'instrument': 'BTCUSDT', 'price_usd': 114207.99}\n",
      "[POLL] 8/20 -> {'ts': '2025-09-30T04:33:55.891138+00:00', 'source': 'binance', 'instrument': 'BTCUSDT', 'price_usd': 114216.32}\n",
      "[POLL] 9/20 -> {'ts': '2025-09-30T04:34:01.272499+00:00', 'source': 'binance', 'instrument': 'BTCUSDT', 'price_usd': 114255.43}\n",
      "[POLL] 10/20 -> {'ts': '2025-09-30T04:34:06.636895+00:00', 'source': 'binance', 'instrument': 'BTCUSDT', 'price_usd': 114256.0}\n",
      "[POLL] 11/20 -> {'ts': '2025-09-30T04:34:12.027893+00:00', 'source': 'binance', 'instrument': 'BTCUSDT', 'price_usd': 114256.0}\n",
      "[POLL] 12/20 -> {'ts': '2025-09-30T04:34:17.394958+00:00', 'source': 'binance', 'instrument': 'BTCUSDT', 'price_usd': 114256.01}\n",
      "[POLL] 13/20 -> {'ts': '2025-09-30T04:34:22.749055+00:00', 'source': 'binance', 'instrument': 'BTCUSDT', 'price_usd': 114256.0}\n",
      "[POLL] 14/20 -> {'ts': '2025-09-30T04:34:28.108823+00:00', 'source': 'binance', 'instrument': 'BTCUSDT', 'price_usd': 114239.54}\n",
      "[POLL] 15/20 -> {'ts': '2025-09-30T04:34:33.478950+00:00', 'source': 'binance', 'instrument': 'BTCUSDT', 'price_usd': 114239.52}\n",
      "[POLL] 16/20 -> {'ts': '2025-09-30T04:34:38.930658+00:00', 'source': 'binance', 'instrument': 'BTCUSDT', 'price_usd': 114229.97}\n",
      "[POLL] 17/20 -> {'ts': '2025-09-30T04:34:44.302032+00:00', 'source': 'binance', 'instrument': 'BTCUSDT', 'price_usd': 114229.97}\n",
      "[POLL] 18/20 -> {'ts': '2025-09-30T04:34:49.663562+00:00', 'source': 'binance', 'instrument': 'BTCUSDT', 'price_usd': 114229.98}\n",
      "[POLL] 19/20 -> {'ts': '2025-09-30T04:34:55.020367+00:00', 'source': 'binance', 'instrument': 'BTCUSDT', 'price_usd': 114229.97}\n",
      "[POLL] 20/20 -> {'ts': '2025-09-30T04:35:00.675226+00:00', 'source': 'binance', 'instrument': 'BTCUSDT', 'price_usd': 114229.98}\n",
      "[DONE] Archivo: /Users/eduardo/Developer/TSW/fundamentos/fundamentos-ingenieria-datos/data/poll_binance_BTCUSDT_2025-09-29.jsonl\n"
     ]
    }
   ],
   "source": [
    "!python ../../src/streaming/poll_coincap_http.py"
   ]
  },
  {
   "cell_type": "markdown",
   "metadata": {},
   "source": [
    "## 4) Cargar y comparar en pandas\n",
    "Leemos ambos `.jsonl` y observamos diferencias de granularidad/latencia (aprox.)."
   ]
  },
  {
   "cell_type": "code",
   "execution_count": 5,
   "metadata": {
    "id": "compare"
   },
   "outputs": [
    {
     "name": "stdout",
     "output_type": "stream",
     "text": [
      "STREAM: ../../data/stream_ws_2025-09-29.jsonl\n"
     ]
    },
    {
     "data": {
      "text/html": [
       "<div>\n",
       "<style scoped>\n",
       "    .dataframe tbody tr th:only-of-type {\n",
       "        vertical-align: middle;\n",
       "    }\n",
       "\n",
       "    .dataframe tbody tr th {\n",
       "        vertical-align: top;\n",
       "    }\n",
       "\n",
       "    .dataframe thead th {\n",
       "        text-align: right;\n",
       "    }\n",
       "</style>\n",
       "<table border=\"1\" class=\"dataframe\">\n",
       "  <thead>\n",
       "    <tr style=\"text-align: right;\">\n",
       "      <th></th>\n",
       "      <th>_probe</th>\n",
       "      <th>ts</th>\n",
       "      <th>source</th>\n",
       "      <th>instrument</th>\n",
       "      <th>price</th>\n",
       "      <th>currency</th>\n",
       "      <th>qty</th>\n",
       "      <th>trade_id</th>\n",
       "    </tr>\n",
       "  </thead>\n",
       "  <tbody>\n",
       "    <tr>\n",
       "      <th>0</th>\n",
       "      <td>1.0</td>\n",
       "      <td>2025-09-30T04:29:24.413211+00:00</td>\n",
       "      <td>NaN</td>\n",
       "      <td>NaN</td>\n",
       "      <td>NaN</td>\n",
       "      <td>NaN</td>\n",
       "      <td>NaN</td>\n",
       "      <td>NaN</td>\n",
       "    </tr>\n",
       "    <tr>\n",
       "      <th>1</th>\n",
       "      <td>NaN</td>\n",
       "      <td>2025-09-30T04:29:25.680613+00:00</td>\n",
       "      <td>binance</td>\n",
       "      <td>BTCUSDT</td>\n",
       "      <td>114200.00</td>\n",
       "      <td>USDT</td>\n",
       "      <td>0.00638</td>\n",
       "      <td>5.267491e+09</td>\n",
       "    </tr>\n",
       "    <tr>\n",
       "      <th>2</th>\n",
       "      <td>NaN</td>\n",
       "      <td>2025-09-30T04:29:26.098653+00:00</td>\n",
       "      <td>binance</td>\n",
       "      <td>BTCUSDT</td>\n",
       "      <td>114200.01</td>\n",
       "      <td>USDT</td>\n",
       "      <td>0.00066</td>\n",
       "      <td>5.267491e+09</td>\n",
       "    </tr>\n",
       "    <tr>\n",
       "      <th>3</th>\n",
       "      <td>NaN</td>\n",
       "      <td>2025-09-30T04:29:26.398568+00:00</td>\n",
       "      <td>binance</td>\n",
       "      <td>BTCUSDT</td>\n",
       "      <td>114200.01</td>\n",
       "      <td>USDT</td>\n",
       "      <td>0.00178</td>\n",
       "      <td>5.267491e+09</td>\n",
       "    </tr>\n",
       "    <tr>\n",
       "      <th>4</th>\n",
       "      <td>NaN</td>\n",
       "      <td>2025-09-30T04:29:26.472646+00:00</td>\n",
       "      <td>binance</td>\n",
       "      <td>BTCUSDT</td>\n",
       "      <td>114200.00</td>\n",
       "      <td>USDT</td>\n",
       "      <td>0.00017</td>\n",
       "      <td>5.267491e+09</td>\n",
       "    </tr>\n",
       "  </tbody>\n",
       "</table>\n",
       "</div>"
      ],
      "text/plain": [
       "   _probe                                ts   source instrument      price  \\\n",
       "0     1.0  2025-09-30T04:29:24.413211+00:00      NaN        NaN        NaN   \n",
       "1     NaN  2025-09-30T04:29:25.680613+00:00  binance    BTCUSDT  114200.00   \n",
       "2     NaN  2025-09-30T04:29:26.098653+00:00  binance    BTCUSDT  114200.01   \n",
       "3     NaN  2025-09-30T04:29:26.398568+00:00  binance    BTCUSDT  114200.01   \n",
       "4     NaN  2025-09-30T04:29:26.472646+00:00  binance    BTCUSDT  114200.00   \n",
       "\n",
       "  currency      qty      trade_id  \n",
       "0      NaN      NaN           NaN  \n",
       "1     USDT  0.00638  5.267491e+09  \n",
       "2     USDT  0.00066  5.267491e+09  \n",
       "3     USDT  0.00178  5.267491e+09  \n",
       "4     USDT  0.00017  5.267491e+09  "
      ]
     },
     "metadata": {},
     "output_type": "display_data"
    },
    {
     "name": "stdout",
     "output_type": "stream",
     "text": [
      "POLL: ../../data/poll_binance_BTCUSDT_2025-09-29.jsonl\n"
     ]
    },
    {
     "data": {
      "text/html": [
       "<div>\n",
       "<style scoped>\n",
       "    .dataframe tbody tr th:only-of-type {\n",
       "        vertical-align: middle;\n",
       "    }\n",
       "\n",
       "    .dataframe tbody tr th {\n",
       "        vertical-align: top;\n",
       "    }\n",
       "\n",
       "    .dataframe thead th {\n",
       "        text-align: right;\n",
       "    }\n",
       "</style>\n",
       "<table border=\"1\" class=\"dataframe\">\n",
       "  <thead>\n",
       "    <tr style=\"text-align: right;\">\n",
       "      <th></th>\n",
       "      <th>ts</th>\n",
       "      <th>source</th>\n",
       "      <th>instrument</th>\n",
       "      <th>price_usd</th>\n",
       "    </tr>\n",
       "  </thead>\n",
       "  <tbody>\n",
       "    <tr>\n",
       "      <th>0</th>\n",
       "      <td>2025-09-30T04:33:18.039576+00:00</td>\n",
       "      <td>binance</td>\n",
       "      <td>BTCUSDT</td>\n",
       "      <td>114147.47</td>\n",
       "    </tr>\n",
       "    <tr>\n",
       "      <th>1</th>\n",
       "      <td>2025-09-30T04:33:23.723831+00:00</td>\n",
       "      <td>binance</td>\n",
       "      <td>BTCUSDT</td>\n",
       "      <td>114147.47</td>\n",
       "    </tr>\n",
       "    <tr>\n",
       "      <th>2</th>\n",
       "      <td>2025-09-30T04:33:29.100095+00:00</td>\n",
       "      <td>binance</td>\n",
       "      <td>BTCUSDT</td>\n",
       "      <td>114147.47</td>\n",
       "    </tr>\n",
       "    <tr>\n",
       "      <th>3</th>\n",
       "      <td>2025-09-30T04:33:34.453986+00:00</td>\n",
       "      <td>binance</td>\n",
       "      <td>BTCUSDT</td>\n",
       "      <td>114147.48</td>\n",
       "    </tr>\n",
       "    <tr>\n",
       "      <th>4</th>\n",
       "      <td>2025-09-30T04:33:39.819876+00:00</td>\n",
       "      <td>binance</td>\n",
       "      <td>BTCUSDT</td>\n",
       "      <td>114170.45</td>\n",
       "    </tr>\n",
       "  </tbody>\n",
       "</table>\n",
       "</div>"
      ],
      "text/plain": [
       "                                 ts   source instrument  price_usd\n",
       "0  2025-09-30T04:33:18.039576+00:00  binance    BTCUSDT  114147.47\n",
       "1  2025-09-30T04:33:23.723831+00:00  binance    BTCUSDT  114147.47\n",
       "2  2025-09-30T04:33:29.100095+00:00  binance    BTCUSDT  114147.47\n",
       "3  2025-09-30T04:33:34.453986+00:00  binance    BTCUSDT  114147.48\n",
       "4  2025-09-30T04:33:39.819876+00:00  binance    BTCUSDT  114170.45"
      ]
     },
     "metadata": {},
     "output_type": "display_data"
    }
   ],
   "source": [
    "from pathlib import Path\n",
    "import pandas as pd\n",
    "\n",
    "data_dir = Path(\"../../data\")\n",
    "\n",
    "# STREAM\n",
    "stream_file = sorted(data_dir.glob(\"stream_ws_*.jsonl\"))[-1]\n",
    "df_stream = pd.read_json(stream_file, lines=True)\n",
    "print(\"STREAM:\", stream_file)\n",
    "display(df_stream.head())\n",
    "\n",
    "# POLL \n",
    "poll_files = sorted(list(data_dir.glob(\"poll_binance_*.jsonl\")) + list(data_dir.glob(\"poll_coincap_*.jsonl\")))\n",
    "poll_file = poll_files[-1]\n",
    "df_poll = pd.read_json(poll_file, lines=True)\n",
    "print(\"POLL:\", poll_file)\n",
    "display(df_poll.head())\n"
   ]
  },
  {
   "cell_type": "markdown",
   "metadata": {},
   "source": [
    "## 5) Reflexión (respuestas cortas)\n",
    "**¿Quién tiene menor latencia?**\n",
    "El websocket tiene menor latencia ya que la conexión es persistente o en tiempo real  \n",
    "\n",
    "**¿Qué pasa si el stream se cae?** \n",
    "Realiza reintentos de conexion, donde cada reintento aumenta exponencialmente el tiempo de espera\n",
    "\n",
    "**¿Cuál genera más duplicados o huecos temporales?**\n",
    "Duplicados: WS, huecos temporales: Http polling\n"
   ]
  },
  {
   "cell_type": "markdown",
   "id": "6e28e336",
   "metadata": {},
   "source": []
  }
 ],
 "metadata": {
  "kernelspec": {
   "display_name": "fundamentos-ingenieria-datos",
   "language": "python",
   "name": "python3"
  },
  "language_info": {
   "codemirror_mode": {
    "name": "ipython",
    "version": 3
   },
   "file_extension": ".py",
   "mimetype": "text/x-python",
   "name": "python",
   "nbconvert_exporter": "python",
   "pygments_lexer": "ipython3",
   "version": "3.13.7"
  }
 },
 "nbformat": 4,
 "nbformat_minor": 5
}
