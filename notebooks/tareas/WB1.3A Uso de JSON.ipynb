{
 "cells": [
  {
   "cell_type": "markdown",
   "id": "2dfcaf08",
   "metadata": {},
   "source": [
    "### acceder al archivo mediante una solicitud html a través de la función requests.get() (o similar) "
   ]
  },
  {
   "cell_type": "code",
   "execution_count": 1,
   "id": "523d4a04",
   "metadata": {},
   "outputs": [],
   "source": [
    "import requests"
   ]
  },
  {
   "cell_type": "code",
   "execution_count": 2,
   "id": "ca3eb3e7",
   "metadata": {},
   "outputs": [],
   "source": [
    "url = \"https://raw.githubusercontent.com/DaTolok/python-edx/main/Modulo 4/reviews.json\"\n",
    "response = requests.get(url)\n"
   ]
  },
  {
   "cell_type": "code",
   "execution_count": 3,
   "id": "75476ce4",
   "metadata": {},
   "outputs": [
    {
     "data": {
      "text/plain": [
       "200"
      ]
     },
     "execution_count": 3,
     "metadata": {},
     "output_type": "execute_result"
    }
   ],
   "source": [
    "response.status_code"
   ]
  },
  {
   "cell_type": "code",
   "execution_count": 4,
   "id": "0b93f28c",
   "metadata": {},
   "outputs": [],
   "source": [
    "data = response.json()"
   ]
  },
  {
   "cell_type": "code",
   "execution_count": 5,
   "id": "80afa096",
   "metadata": {},
   "outputs": [
    {
     "data": {
      "text/plain": [
       "dict_keys(['html_attributions', 'result', 'status'])"
      ]
     },
     "execution_count": 5,
     "metadata": {},
     "output_type": "execute_result"
    }
   ],
   "source": [
    "data.keys()"
   ]
  },
  {
   "cell_type": "code",
   "execution_count": 7,
   "id": "2e00052a",
   "metadata": {},
   "outputs": [
    {
     "data": {
      "text/plain": [
       "'OK'"
      ]
     },
     "execution_count": 7,
     "metadata": {},
     "output_type": "execute_result"
    }
   ],
   "source": [
    "data[\"status\"]"
   ]
  },
  {
   "cell_type": "code",
   "execution_count": 8,
   "id": "adb1af72",
   "metadata": {},
   "outputs": [
    {
     "data": {
      "text/plain": [
       "{'address_components': [{'long_name': '47A',\n",
       "   'short_name': '47A',\n",
       "   'types': ['street_number']},\n",
       "  {'long_name': 'Calle 56', 'short_name': 'Calle 56', 'types': ['route']},\n",
       "  {'long_name': 'Zona Paseo Montejo',\n",
       "   'short_name': 'Zona Paseo Montejo',\n",
       "   'types': ['neighborhood', 'political']},\n",
       "  {'long_name': 'Centro',\n",
       "   'short_name': 'Centro',\n",
       "   'types': ['sublocality_level_1', 'sublocality', 'political']},\n",
       "  {'long_name': 'Mérida',\n",
       "   'short_name': 'Mérida',\n",
       "   'types': ['locality', 'political']},\n",
       "  {'long_name': 'Yucatán',\n",
       "   'short_name': 'Yuc.',\n",
       "   'types': ['administrative_area_level_1', 'political']},\n",
       "  {'long_name': 'Mexico',\n",
       "   'short_name': 'MX',\n",
       "   'types': ['country', 'political']},\n",
       "  {'long_name': '97000', 'short_name': '97000', 'types': ['postal_code']}],\n",
       " 'adr_address': '<span class=\"street-address\">Calle 56 47A</span>, <span class=\"extended-address\">Zona Paseo Montejo, Centro</span>, <span class=\"postal-code\">97000</span> <span class=\"locality\">Mérida</span>, <span class=\"region\">Yuc.</span>, <span class=\"country-name\">Mexico</span>',\n",
       " 'business_status': 'OPERATIONAL',\n",
       " 'formatted_address': 'Calle 56 47A, Zona Paseo Montejo, Centro, 97000 Mérida, Yuc., Mexico',\n",
       " 'formatted_phone_number': '999 927 6443',\n",
       " 'geometry': {'location': {'lat': 20.9798074, 'lng': -89.6183645},\n",
       "  'viewport': {'northeast': {'lat': 20.9811692302915,\n",
       "    'lng': -89.61715956970849},\n",
       "   'southwest': {'lat': 20.9784712697085, 'lng': -89.6198575302915}}},\n",
       " 'icon': 'https://maps.gstatic.com/mapfiles/place_api/icons/v1/png_71/restaurant-71.png',\n",
       " 'international_phone_number': '+52 999 927 6443',\n",
       " 'name': 'Dulcería y Sorbetería Colón',\n",
       " 'opening_hours': {'open_now': False,\n",
       "  'periods': [{'close': {'day': 1, 'time': '0000'},\n",
       "    'open': {'day': 0, 'time': '1100'}},\n",
       "   {'close': {'day': 2, 'time': '0000'}, 'open': {'day': 1, 'time': '1100'}},\n",
       "   {'close': {'day': 3, 'time': '0000'}, 'open': {'day': 2, 'time': '1100'}},\n",
       "   {'close': {'day': 4, 'time': '0000'}, 'open': {'day': 3, 'time': '1100'}},\n",
       "   {'close': {'day': 5, 'time': '0000'}, 'open': {'day': 4, 'time': '1100'}},\n",
       "   {'close': {'day': 6, 'time': '0000'}, 'open': {'day': 5, 'time': '1100'}},\n",
       "   {'close': {'day': 0, 'time': '0000'}, 'open': {'day': 6, 'time': '1100'}}],\n",
       "  'weekday_text': ['Monday: 11:00 AM – 12:00 AM',\n",
       "   'Tuesday: 11:00 AM – 12:00 AM',\n",
       "   'Wednesday: 11:00 AM – 12:00 AM',\n",
       "   'Thursday: 11:00 AM – 12:00 AM',\n",
       "   'Friday: 11:00 AM – 12:00 AM',\n",
       "   'Saturday: 11:00 AM – 12:00 AM',\n",
       "   'Sunday: 11:00 AM – 12:00 AM']},\n",
       " 'photos': [{'height': 1080,\n",
       "   'html_attributions': ['<a href=\"https://maps.google.com/maps/contrib/113705951500092907000\">David Canseco</a>'],\n",
       "   'photo_reference': 'ATtYBwJ2R1JecoftxcR1NGOVgyWcb7bNNg8MrrN_5YZlsTADksHA7Yojcf2xUDvwB9m0G_h7yIPu3APobq7u_6QO1RKXnl2_OD70DzLaLOtuGASx8VkvaeRvIGBNrACLI-paitA7v3rlh6UZPEZTV33kCFZiBif2OszsEdk2f3uLkrS4VfIc',\n",
       "   'width': 1920},\n",
       "  {'height': 2600,\n",
       "   'html_attributions': ['<a href=\"https://maps.google.com/maps/contrib/107160127938072112885\">Jose Javier Hernandez</a>'],\n",
       "   'photo_reference': 'ATtYBwJSgBsId8TLGAniyQPpw_f-RCPAPBZezZd0U_2_9El8YRo4LIhu2MrPlmVmf4MMcZLKo8AE1Mg9Y9H1wu_ermyl30H1ONzzk5qGqKlFphsRLI8BCnSDXPr86NR2NKzpCdkjcMd3zadvN3um9wYLdwPk0nErf2ScXK6u8s56rzwJZCYI',\n",
       "   'width': 4624},\n",
       "  {'height': 3024,\n",
       "   'html_attributions': ['<a href=\"https://maps.google.com/maps/contrib/116756698960634665573\">Karolina Guadarrama</a>'],\n",
       "   'photo_reference': 'ATtYBwL7rm2dVJG8bV_AJmAyvSdhIo0LqeozhAHHgZRFfC8yXb5GU3_ScTkZ_GoCsEpZ0ED5QosA7DsGStC5-uLCgZSuCjmkn7pAtVilzFEUS4-SIp-1hcoVS8gW_X-xeklYNKwNdR443_dvGCR42CzKyqLoVAa0rBS_NZJTEt_L20D6nyd9',\n",
       "   'width': 4032},\n",
       "  {'height': 3024,\n",
       "   'html_attributions': ['<a href=\"https://maps.google.com/maps/contrib/105365594605396769354\">Erika Romero</a>'],\n",
       "   'photo_reference': 'ATtYBwIRdXzzfgSu0z67XTJ6PKQCyG6NeBKy32b9SH4o0Mdr9gIbkTgYAqbyzGLiFWe6Lkhy7BttwmzyPhQLJ0gOxWa1-qotLFsztRSVRHuTvtnsUuYUs-BQ1OjxSXizbpA4avErsDisro53CmGa2nD06j_0PhnhlXLeMPe2hiFKVzgz2d-3',\n",
       "   'width': 4032},\n",
       "  {'height': 3468,\n",
       "   'html_attributions': ['<a href=\"https://maps.google.com/maps/contrib/112560082614852935020\">Fred Lambuth</a>'],\n",
       "   'photo_reference': 'ATtYBwLejZnNgcvMfnPe9d2pJs_-3FWwytupJbh8K94krP4_9c4mH5MXQfVzEjttQgeAuPkXxOE9RWX3Hz3-wJ-FiXH5-NJYKnQhdhRJwTZ8PTfiDvKhA-reulebrLDZdDdF_qe_2txOdSRVKWJb29s9Q0jCLTVLS-uCX_6MubZcEn_biaPU',\n",
       "   'width': 4624},\n",
       "  {'height': 4032,\n",
       "   'html_attributions': ['<a href=\"https://maps.google.com/maps/contrib/104534789216109892618\">Oscar Nava</a>'],\n",
       "   'photo_reference': 'ATtYBwLqkLNT3AEHNELgEPkc0kHmBR6nNmFQM-V01syE0cNtlPe4tL0a0dBaoL0xtr3fB9PaWhSGzdyZC29OOAQ3B9JvnPGoz_5k46oR5olCHogzaKroX__d1uOViV_6KedZTmNqitdDpycQFHBQcLLm-s39Ayigg0yTnCYrOISHN07FVjHC',\n",
       "   'width': 1908},\n",
       "  {'height': 3000,\n",
       "   'html_attributions': ['<a href=\"https://maps.google.com/maps/contrib/111042408799902028581\">Pablo De Luna</a>'],\n",
       "   'photo_reference': 'ATtYBwIU9VecQxocttriwl1hqZ_w11jtbRgT452L1q9XvCUNw-SezEdwRmLXlQRpA0WIZ6K4PPnNFgTZh5k0GGfabKvAwuF30SpZZkukDwGJyH4hncw1OimuS1QTfFyGo_IwqIEdSWDDTzg0XKpe9o_h4e9ulzk5_WcjFNZWXEFAUJ6BuCuY',\n",
       "   'width': 4000},\n",
       "  {'height': 4640,\n",
       "   'html_attributions': ['<a href=\"https://maps.google.com/maps/contrib/100838699237906194027\">Sergio Morales</a>'],\n",
       "   'photo_reference': 'ATtYBwJuAZrkZoZ1jLpLbQWxLOVBNwY0jYYl83wtEAX0NAnqFk9zd79i_HWY0WOHtaKi4YPyfmNf6ab3FTPcjbdPn_pfJooZKCVHP_p9Yhe1zczcPsTMgw-qIVYm8KX6lEZLU8hH6eIF9QNLOuqFKwi10OdKSEpLSa95tjOOop1423y3kOfP',\n",
       "   'width': 3472},\n",
       "  {'height': 2448,\n",
       "   'html_attributions': ['<a href=\"https://maps.google.com/maps/contrib/110882333132234394764\">Marco Antonio</a>'],\n",
       "   'photo_reference': 'ATtYBwLz581BH1H2-KXZ_V7qK2Qt7x3dXANEWXec8U-ZLbODfeeI4jjr1d1whfznT1tZ6eInO31H-_wMxMqC-wx5Sv1863-yVnE-UxqhuSCt8Qd-lPwvDbxYsOxFrUVauedwDJrPcfgDDl1meKsi4TcuSRyweD2KmygOZX_bEZvR-1IrQ5nl',\n",
       "   'width': 3264},\n",
       "  {'height': 4032,\n",
       "   'html_attributions': ['<a href=\"https://maps.google.com/maps/contrib/110505385433737174332\">Lorenzo Diaz</a>'],\n",
       "   'photo_reference': 'ATtYBwKit6EQ7FWUhhbDsfVLTN1iMMqs7SQI0KTnN6FM5XEH59I493eOhXBSfG2bQf7HpzjZTosc9nWpaeEi7uaP_dVCdLN-PzzZv97Xc9yb22dG3ljASpQ8lUxbU1oE3Mh4bWpky9xNe3KV0gru8n_Y-X0OA_lPvM3s6LKdKaolwL8tFJU0',\n",
       "   'width': 2268}],\n",
       " 'place_id': 'ChIJ84KkeFxxVo8ReWeMn3zwrfI',\n",
       " 'plus_code': {'compound_code': 'X9HJ+WM Mérida, Yucatan, Mexico',\n",
       "  'global_code': '76GGX9HJ+WM'},\n",
       " 'price_level': 2,\n",
       " 'rating': 4.5,\n",
       " 'reference': 'ChIJ84KkeFxxVo8ReWeMn3zwrfI',\n",
       " 'reviews': [{'author_name': 'Leonard Majere',\n",
       "   'author_url': 'https://www.google.com/maps/contrib/115590468258988949057/reviews',\n",
       "   'language': 'en',\n",
       "   'profile_photo_url': 'https://lh3.googleusercontent.com/a/AATXAJzkSl3653v1nSS4K_QunDP4T_Jz-GutWdX5cmOv=s128-c0x00000000-cc-rp-mo',\n",
       "   'rating': 3,\n",
       "   'relative_time_description': '5 months ago',\n",
       "   'text': \"Has great reviews but...my god....this place oversweetens their desserts to a ridiculous level.\\nHad to actually throw my stuff away because I couldn't take more than a few bites, unbelievably sweet. Nice flavors but is so sweet it almost concerns me.\",\n",
       "   'time': 1608618317},\n",
       "  {'author_name': 'Mario Caceres',\n",
       "   'author_url': 'https://www.google.com/maps/contrib/115283396627908678806/reviews',\n",
       "   'language': 'en',\n",
       "   'profile_photo_url': 'https://lh3.googleusercontent.com/a/AATXAJzF1c0nvVkEBCUpyi8BQ8afRdliXFnxvEWz9-nO=s128-c0x00000000-cc-rp-mo',\n",
       "   'rating': 5,\n",
       "   'relative_time_description': 'in the last week',\n",
       "   'text': \"Sorbetes, like Italian ice but much better. All natural fruits great flavorful varieties\\nCan't miss this place.\",\n",
       "   'time': 1622955403},\n",
       "  {'author_name': 'S H',\n",
       "   'author_url': 'https://www.google.com/maps/contrib/107507972386630105813/reviews',\n",
       "   'language': 'en',\n",
       "   'profile_photo_url': 'https://lh3.googleusercontent.com/a/AATXAJzdDTwH1eUcfP20LQdF3MGt2q26SraPOdG4HeXW=s128-c0x00000000-cc-rp-mo',\n",
       "   'rating': 3,\n",
       "   'relative_time_description': '4 weeks ago',\n",
       "   'text': 'I had the famous Helado de Coco. It was good but nothing special. It didn\\'t really taste like coconut, the flavor was very mild. Price is a bit high for what you get. I recommend just ordering \"para llevar\" and finding a quiet bench to enjoy your treats.',\n",
       "   'time': 1620536777},\n",
       "  {'author_name': 'Fernando Carvajal',\n",
       "   'author_url': 'https://www.google.com/maps/contrib/104528468443060790186/reviews',\n",
       "   'language': 'en',\n",
       "   'profile_photo_url': 'https://lh3.googleusercontent.com/a-/AOh14GiaLWlSrKNVfWXOyxi_tVCo-3XN4cpAl8SdSsTuUQ=s128-c0x00000000-cc-rp-mo-ba3',\n",
       "   'rating': 5,\n",
       "   'relative_time_description': 'a week ago',\n",
       "   'text': 'The best ice cream and shakes in town love it every time I come to Merida I have to go there',\n",
       "   'time': 1621917173},\n",
       "  {'author_name': 'C Luengas',\n",
       "   'author_url': 'https://www.google.com/maps/contrib/102073536133121494720/reviews',\n",
       "   'language': 'en',\n",
       "   'profile_photo_url': 'https://lh3.googleusercontent.com/a/AATXAJwpGsMgBHqhLNdQxMT66pm-jOEUJfh0VI3PGpwMRjE=s128-c0x00000000-cc-rp-mo-ba4',\n",
       "   'rating': 4,\n",
       "   'relative_time_description': '2 months ago',\n",
       "   'text': 'Very good sorbets but one must eat them fast before they melt...',\n",
       "   'time': 1617708255}],\n",
       " 'types': ['food', 'point_of_interest', 'store', 'establishment'],\n",
       " 'url': 'https://maps.google.com/?cid=17486897346192893817',\n",
       " 'user_ratings_total': 5824,\n",
       " 'utc_offset': -300,\n",
       " 'vicinity': 'Calle 56 47A, Centro, Mérida',\n",
       " 'website': 'https://dulceriaysorbeteriacolon.wordpress.com/'}"
      ]
     },
     "execution_count": 8,
     "metadata": {},
     "output_type": "execute_result"
    }
   ],
   "source": [
    "data[\"result\"]"
   ]
  },
  {
   "cell_type": "code",
   "execution_count": 9,
   "id": "e959a74f",
   "metadata": {},
   "outputs": [
    {
     "data": {
      "text/plain": [
       "dict_keys(['address_components', 'adr_address', 'business_status', 'formatted_address', 'formatted_phone_number', 'geometry', 'icon', 'international_phone_number', 'name', 'opening_hours', 'photos', 'place_id', 'plus_code', 'price_level', 'rating', 'reference', 'reviews', 'types', 'url', 'user_ratings_total', 'utc_offset', 'vicinity', 'website'])"
      ]
     },
     "execution_count": 9,
     "metadata": {},
     "output_type": "execute_result"
    }
   ],
   "source": [
    "result = data[\"result\"]\n",
    "result.keys()"
   ]
  },
  {
   "cell_type": "code",
   "execution_count": 15,
   "id": "eeb1d3b6",
   "metadata": {},
   "outputs": [
    {
     "data": {
      "text/plain": [
       "2"
      ]
     },
     "execution_count": 15,
     "metadata": {},
     "output_type": "execute_result"
    }
   ],
   "source": [
    "result[\"price_level\"]"
   ]
  },
  {
   "cell_type": "code",
   "execution_count": 16,
   "id": "de31c1ce",
   "metadata": {},
   "outputs": [
    {
     "data": {
      "text/plain": [
       "['food', 'point_of_interest', 'store', 'establishment']"
      ]
     },
     "execution_count": 16,
     "metadata": {},
     "output_type": "execute_result"
    }
   ],
   "source": [
    "result[\"types\"]"
   ]
  },
  {
   "cell_type": "code",
   "execution_count": 10,
   "id": "556d4c2b",
   "metadata": {},
   "outputs": [
    {
     "data": {
      "text/plain": [
       "'OPERATIONAL'"
      ]
     },
     "execution_count": 10,
     "metadata": {},
     "output_type": "execute_result"
    }
   ],
   "source": [
    "result[\"business_status\"]"
   ]
  },
  {
   "cell_type": "code",
   "execution_count": 12,
   "id": "832d96b9",
   "metadata": {},
   "outputs": [
    {
     "data": {
      "text/plain": [
       "[{'author_name': 'Leonard Majere',\n",
       "  'author_url': 'https://www.google.com/maps/contrib/115590468258988949057/reviews',\n",
       "  'language': 'en',\n",
       "  'profile_photo_url': 'https://lh3.googleusercontent.com/a/AATXAJzkSl3653v1nSS4K_QunDP4T_Jz-GutWdX5cmOv=s128-c0x00000000-cc-rp-mo',\n",
       "  'rating': 3,\n",
       "  'relative_time_description': '5 months ago',\n",
       "  'text': \"Has great reviews but...my god....this place oversweetens their desserts to a ridiculous level.\\nHad to actually throw my stuff away because I couldn't take more than a few bites, unbelievably sweet. Nice flavors but is so sweet it almost concerns me.\",\n",
       "  'time': 1608618317},\n",
       " {'author_name': 'Mario Caceres',\n",
       "  'author_url': 'https://www.google.com/maps/contrib/115283396627908678806/reviews',\n",
       "  'language': 'en',\n",
       "  'profile_photo_url': 'https://lh3.googleusercontent.com/a/AATXAJzF1c0nvVkEBCUpyi8BQ8afRdliXFnxvEWz9-nO=s128-c0x00000000-cc-rp-mo',\n",
       "  'rating': 5,\n",
       "  'relative_time_description': 'in the last week',\n",
       "  'text': \"Sorbetes, like Italian ice but much better. All natural fruits great flavorful varieties\\nCan't miss this place.\",\n",
       "  'time': 1622955403},\n",
       " {'author_name': 'S H',\n",
       "  'author_url': 'https://www.google.com/maps/contrib/107507972386630105813/reviews',\n",
       "  'language': 'en',\n",
       "  'profile_photo_url': 'https://lh3.googleusercontent.com/a/AATXAJzdDTwH1eUcfP20LQdF3MGt2q26SraPOdG4HeXW=s128-c0x00000000-cc-rp-mo',\n",
       "  'rating': 3,\n",
       "  'relative_time_description': '4 weeks ago',\n",
       "  'text': 'I had the famous Helado de Coco. It was good but nothing special. It didn\\'t really taste like coconut, the flavor was very mild. Price is a bit high for what you get. I recommend just ordering \"para llevar\" and finding a quiet bench to enjoy your treats.',\n",
       "  'time': 1620536777},\n",
       " {'author_name': 'Fernando Carvajal',\n",
       "  'author_url': 'https://www.google.com/maps/contrib/104528468443060790186/reviews',\n",
       "  'language': 'en',\n",
       "  'profile_photo_url': 'https://lh3.googleusercontent.com/a-/AOh14GiaLWlSrKNVfWXOyxi_tVCo-3XN4cpAl8SdSsTuUQ=s128-c0x00000000-cc-rp-mo-ba3',\n",
       "  'rating': 5,\n",
       "  'relative_time_description': 'a week ago',\n",
       "  'text': 'The best ice cream and shakes in town love it every time I come to Merida I have to go there',\n",
       "  'time': 1621917173},\n",
       " {'author_name': 'C Luengas',\n",
       "  'author_url': 'https://www.google.com/maps/contrib/102073536133121494720/reviews',\n",
       "  'language': 'en',\n",
       "  'profile_photo_url': 'https://lh3.googleusercontent.com/a/AATXAJwpGsMgBHqhLNdQxMT66pm-jOEUJfh0VI3PGpwMRjE=s128-c0x00000000-cc-rp-mo-ba4',\n",
       "  'rating': 4,\n",
       "  'relative_time_description': '2 months ago',\n",
       "  'text': 'Very good sorbets but one must eat them fast before they melt...',\n",
       "  'time': 1617708255}]"
      ]
     },
     "execution_count": 12,
     "metadata": {},
     "output_type": "execute_result"
    }
   ],
   "source": [
    "reviews = result[\"reviews\"]\n",
    "reviews"
   ]
  },
  {
   "cell_type": "code",
   "execution_count": 13,
   "id": "1649b3a5",
   "metadata": {},
   "outputs": [
    {
     "data": {
      "text/plain": [
       "4.0"
      ]
     },
     "execution_count": 13,
     "metadata": {},
     "output_type": "execute_result"
    }
   ],
   "source": [
    "# Promedio de rating de los reviews\n",
    "sum(review[\"rating\"] for review in reviews) / len(reviews)# "
   ]
  },
  {
   "cell_type": "code",
   "execution_count": 14,
   "id": "5b64f2c4",
   "metadata": {},
   "outputs": [
    {
     "name": "stdout",
     "output_type": "stream",
     "text": [
      "Reviews positivos: 3\n",
      "Reviews negativos: 0\n",
      "Reviews neutros: 2\n"
     ]
    }
   ],
   "source": [
    "# Conteo de reviews positivos, negativos y neutros\n",
    "positive_reviews = [review for review in reviews if review[\"rating\"] >= 4]\n",
    "negative_reviews = [review for review in reviews if review[\"rating\"] <= 2]\n",
    "neutral_reviews = [review for review in reviews if review[\"rating\"] == 3]\n",
    "\n",
    "print(f\"Reviews positivos: {len(positive_reviews)}\")\n",
    "print(f\"Reviews negativos: {len(negative_reviews)}\")\n",
    "print(f\"Reviews neutros: {len(neutral_reviews)}\")"
   ]
  },
  {
   "cell_type": "code",
   "execution_count": 17,
   "id": "21d258af",
   "metadata": {},
   "outputs": [
    {
     "data": {
      "text/plain": [
       "{'en'}"
      ]
     },
     "execution_count": 17,
     "metadata": {},
     "output_type": "execute_result"
    }
   ],
   "source": [
    "# idiomas de los reviews\n",
    "languages = set(review[\"language\"] for review in reviews)\n",
    "languages\n"
   ]
  },
  {
   "cell_type": "code",
   "execution_count": 20,
   "id": "40821f9f",
   "metadata": {},
   "outputs": [
    {
     "data": {
      "text/plain": [
       "3"
      ]
     },
     "execution_count": 20,
     "metadata": {},
     "output_type": "execute_result"
    }
   ],
   "source": [
    "ratings = [review[\"rating\"] for review in reviews]\n",
    "#minimo\n",
    "min(ratings)\n",
    "\n"
   ]
  }
 ],
 "metadata": {
  "kernelspec": {
   "display_name": "fundamentos-ingenieria-datos",
   "language": "python",
   "name": "python3"
  },
  "language_info": {
   "codemirror_mode": {
    "name": "ipython",
    "version": 3
   },
   "file_extension": ".py",
   "mimetype": "text/x-python",
   "name": "python",
   "nbconvert_exporter": "python",
   "pygments_lexer": "ipython3",
   "version": "3.13.7"
  }
 },
 "nbformat": 4,
 "nbformat_minor": 5
}
