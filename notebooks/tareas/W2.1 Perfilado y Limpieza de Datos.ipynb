{
 "cells": [
  {
   "cell_type": "markdown",
   "id": "9d1222aa",
   "metadata": {},
   "source": [
    "# Actividad #4. Perfilado de Datos"
   ]
  },
  {
   "cell_type": "markdown",
   "id": "a8b4d5b8",
   "metadata": {},
   "source": [
    "## Parte 1. Integración y Exploración"
   ]
  },
  {
   "cell_type": "code",
   "execution_count": 55,
   "id": "68e93712",
   "metadata": {},
   "outputs": [
    {
     "name": "stdout",
     "output_type": "stream",
     "text": [
      "Warning: Looks like you're using an outdated `kagglehub` version, please consider updating (latest version: 0.3.13)\n",
      "Path to dataset files: /Users/eduardo/.cache/kagglehub/datasets/carrie1/ecommerce-data/versions/1\n"
     ]
    }
   ],
   "source": [
    "import kagglehub\n",
    "\n",
    "path = kagglehub.dataset_download(\"carrie1/ecommerce-data\")\n",
    "\n",
    "print(\"Path to dataset files:\", path)"
   ]
  },
  {
   "cell_type": "code",
   "execution_count": 57,
   "id": "5b8155fd",
   "metadata": {},
   "outputs": [
    {
     "data": {
      "text/plain": [
       "{'shape': (541909, 8)}"
      ]
     },
     "metadata": {},
     "output_type": "display_data"
    },
    {
     "data": {
      "text/plain": [
       "InvoiceNo       object\n",
       "StockCode       object\n",
       "Description     object\n",
       "Quantity         int64\n",
       "InvoiceDate     object\n",
       "UnitPrice      float64\n",
       "CustomerID     float64\n",
       "Country         object\n",
       "dtype: object"
      ]
     },
     "metadata": {},
     "output_type": "display_data"
    },
    {
     "data": {
      "text/html": [
       "<div>\n",
       "<style scoped>\n",
       "    .dataframe tbody tr th:only-of-type {\n",
       "        vertical-align: middle;\n",
       "    }\n",
       "\n",
       "    .dataframe tbody tr th {\n",
       "        vertical-align: top;\n",
       "    }\n",
       "\n",
       "    .dataframe thead th {\n",
       "        text-align: right;\n",
       "    }\n",
       "</style>\n",
       "<table border=\"1\" class=\"dataframe\">\n",
       "  <thead>\n",
       "    <tr style=\"text-align: right;\">\n",
       "      <th></th>\n",
       "      <th>InvoiceNo</th>\n",
       "      <th>StockCode</th>\n",
       "      <th>Description</th>\n",
       "      <th>Quantity</th>\n",
       "      <th>InvoiceDate</th>\n",
       "      <th>UnitPrice</th>\n",
       "      <th>CustomerID</th>\n",
       "      <th>Country</th>\n",
       "    </tr>\n",
       "  </thead>\n",
       "  <tbody>\n",
       "    <tr>\n",
       "      <th>0</th>\n",
       "      <td>536365</td>\n",
       "      <td>85123A</td>\n",
       "      <td>WHITE HANGING HEART T-LIGHT HOLDER</td>\n",
       "      <td>6</td>\n",
       "      <td>12/1/2010 8:26</td>\n",
       "      <td>2.55</td>\n",
       "      <td>17850.0</td>\n",
       "      <td>United Kingdom</td>\n",
       "    </tr>\n",
       "    <tr>\n",
       "      <th>1</th>\n",
       "      <td>536365</td>\n",
       "      <td>71053</td>\n",
       "      <td>WHITE METAL LANTERN</td>\n",
       "      <td>6</td>\n",
       "      <td>12/1/2010 8:26</td>\n",
       "      <td>3.39</td>\n",
       "      <td>17850.0</td>\n",
       "      <td>United Kingdom</td>\n",
       "    </tr>\n",
       "    <tr>\n",
       "      <th>2</th>\n",
       "      <td>536365</td>\n",
       "      <td>84406B</td>\n",
       "      <td>CREAM CUPID HEARTS COAT HANGER</td>\n",
       "      <td>8</td>\n",
       "      <td>12/1/2010 8:26</td>\n",
       "      <td>2.75</td>\n",
       "      <td>17850.0</td>\n",
       "      <td>United Kingdom</td>\n",
       "    </tr>\n",
       "    <tr>\n",
       "      <th>3</th>\n",
       "      <td>536365</td>\n",
       "      <td>84029G</td>\n",
       "      <td>KNITTED UNION FLAG HOT WATER BOTTLE</td>\n",
       "      <td>6</td>\n",
       "      <td>12/1/2010 8:26</td>\n",
       "      <td>3.39</td>\n",
       "      <td>17850.0</td>\n",
       "      <td>United Kingdom</td>\n",
       "    </tr>\n",
       "    <tr>\n",
       "      <th>4</th>\n",
       "      <td>536365</td>\n",
       "      <td>84029E</td>\n",
       "      <td>RED WOOLLY HOTTIE WHITE HEART.</td>\n",
       "      <td>6</td>\n",
       "      <td>12/1/2010 8:26</td>\n",
       "      <td>3.39</td>\n",
       "      <td>17850.0</td>\n",
       "      <td>United Kingdom</td>\n",
       "    </tr>\n",
       "  </tbody>\n",
       "</table>\n",
       "</div>"
      ],
      "text/plain": [
       "  InvoiceNo StockCode                          Description  Quantity  \\\n",
       "0    536365    85123A   WHITE HANGING HEART T-LIGHT HOLDER         6   \n",
       "1    536365     71053                  WHITE METAL LANTERN         6   \n",
       "2    536365    84406B       CREAM CUPID HEARTS COAT HANGER         8   \n",
       "3    536365    84029G  KNITTED UNION FLAG HOT WATER BOTTLE         6   \n",
       "4    536365    84029E       RED WOOLLY HOTTIE WHITE HEART.         6   \n",
       "\n",
       "      InvoiceDate  UnitPrice  CustomerID         Country  \n",
       "0  12/1/2010 8:26       2.55     17850.0  United Kingdom  \n",
       "1  12/1/2010 8:26       3.39     17850.0  United Kingdom  \n",
       "2  12/1/2010 8:26       2.75     17850.0  United Kingdom  \n",
       "3  12/1/2010 8:26       3.39     17850.0  United Kingdom  \n",
       "4  12/1/2010 8:26       3.39     17850.0  United Kingdom  "
      ]
     },
     "metadata": {},
     "output_type": "display_data"
    }
   ],
   "source": [
    "import pandas as pd\n",
    "\n",
    "path = path + '/data.csv'\n",
    "\n",
    "df = pd.read_csv(path, encoding='ISO-8859-1')\n",
    "\n",
    "display({'shape': df.shape})\n",
    "display(df.dtypes)\n",
    "display(df.head())\n"
   ]
  },
  {
   "cell_type": "code",
   "execution_count": null,
   "id": "a5cf215b",
   "metadata": {},
   "outputs": [
    {
     "data": {
      "text/plain": [
       "InvoiceNo              object\n",
       "StockCode              object\n",
       "Description            object\n",
       "Quantity                int64\n",
       "InvoiceDate    datetime64[ns]\n",
       "UnitPrice             float64\n",
       "CustomerID            float64\n",
       "Country                object\n",
       "dtype: object"
      ]
     },
     "metadata": {},
     "output_type": "display_data"
    }
   ],
   "source": [
    "df['InvoiceDate'] = pd.to_datetime(df['InvoiceDate'], dayfirst=False, errors='coerce')\n",
    "display(df.dtypes)"
   ]
  },
  {
   "cell_type": "code",
   "execution_count": null,
   "id": "68c9e44f",
   "metadata": {},
   "outputs": [
    {
     "data": {
      "text/html": [
       "<div>\n",
       "<style scoped>\n",
       "    .dataframe tbody tr th:only-of-type {\n",
       "        vertical-align: middle;\n",
       "    }\n",
       "\n",
       "    .dataframe tbody tr th {\n",
       "        vertical-align: top;\n",
       "    }\n",
       "\n",
       "    .dataframe thead th {\n",
       "        text-align: right;\n",
       "    }\n",
       "</style>\n",
       "<table border=\"1\" class=\"dataframe\">\n",
       "  <thead>\n",
       "    <tr style=\"text-align: right;\">\n",
       "      <th></th>\n",
       "      <th>Quantity</th>\n",
       "      <th>UnitPrice</th>\n",
       "    </tr>\n",
       "  </thead>\n",
       "  <tbody>\n",
       "    <tr>\n",
       "      <th>count</th>\n",
       "      <td>541909.000000</td>\n",
       "      <td>541909.000000</td>\n",
       "    </tr>\n",
       "    <tr>\n",
       "      <th>mean</th>\n",
       "      <td>9.552250</td>\n",
       "      <td>4.611114</td>\n",
       "    </tr>\n",
       "    <tr>\n",
       "      <th>std</th>\n",
       "      <td>218.081158</td>\n",
       "      <td>96.759853</td>\n",
       "    </tr>\n",
       "    <tr>\n",
       "      <th>min</th>\n",
       "      <td>-80995.000000</td>\n",
       "      <td>-11062.060000</td>\n",
       "    </tr>\n",
       "    <tr>\n",
       "      <th>25%</th>\n",
       "      <td>1.000000</td>\n",
       "      <td>1.250000</td>\n",
       "    </tr>\n",
       "    <tr>\n",
       "      <th>50%</th>\n",
       "      <td>3.000000</td>\n",
       "      <td>2.080000</td>\n",
       "    </tr>\n",
       "    <tr>\n",
       "      <th>75%</th>\n",
       "      <td>10.000000</td>\n",
       "      <td>4.130000</td>\n",
       "    </tr>\n",
       "    <tr>\n",
       "      <th>max</th>\n",
       "      <td>80995.000000</td>\n",
       "      <td>38970.000000</td>\n",
       "    </tr>\n",
       "  </tbody>\n",
       "</table>\n",
       "</div>"
      ],
      "text/plain": [
       "            Quantity      UnitPrice\n",
       "count  541909.000000  541909.000000\n",
       "mean        9.552250       4.611114\n",
       "std       218.081158      96.759853\n",
       "min    -80995.000000  -11062.060000\n",
       "25%         1.000000       1.250000\n",
       "50%         3.000000       2.080000\n",
       "75%        10.000000       4.130000\n",
       "max     80995.000000   38970.000000"
      ]
     },
     "metadata": {},
     "output_type": "display_data"
    }
   ],
   "source": [
    "num_summary = df[['Quantity', 'UnitPrice']].describe()\n",
    "display(num_summary)"
   ]
  },
  {
   "cell_type": "code",
   "execution_count": null,
   "id": "d841bcbe",
   "metadata": {},
   "outputs": [
    {
     "data": {
      "text/html": [
       "<div>\n",
       "<style scoped>\n",
       "    .dataframe tbody tr th:only-of-type {\n",
       "        vertical-align: middle;\n",
       "    }\n",
       "\n",
       "    .dataframe tbody tr th {\n",
       "        vertical-align: top;\n",
       "    }\n",
       "\n",
       "    .dataframe thead th {\n",
       "        text-align: right;\n",
       "    }\n",
       "</style>\n",
       "<table border=\"1\" class=\"dataframe\">\n",
       "  <thead>\n",
       "    <tr style=\"text-align: right;\">\n",
       "      <th></th>\n",
       "      <th>InvoiceNo</th>\n",
       "      <th>StockCode</th>\n",
       "      <th>Description</th>\n",
       "      <th>Quantity</th>\n",
       "      <th>InvoiceDate</th>\n",
       "      <th>UnitPrice</th>\n",
       "      <th>CustomerID</th>\n",
       "      <th>Country</th>\n",
       "    </tr>\n",
       "  </thead>\n",
       "  <tbody>\n",
       "  </tbody>\n",
       "</table>\n",
       "</div>"
      ],
      "text/plain": [
       "Empty DataFrame\n",
       "Columns: [InvoiceNo, StockCode, Description, Quantity, InvoiceDate, UnitPrice, CustomerID, Country]\n",
       "Index: []"
      ]
     },
     "metadata": {},
     "output_type": "display_data"
    }
   ],
   "source": [
    "display(df[(df['Quantity'].isna()) | (df['UnitPrice'].isna())])"
   ]
  },
  {
   "cell_type": "code",
   "execution_count": null,
   "id": "3a11787d",
   "metadata": {},
   "outputs": [
    {
     "name": "stdout",
     "output_type": "stream",
     "text": [
      "Valores nulos por columna categórica:\n"
     ]
    },
    {
     "data": {
      "text/plain": [
       "InvoiceNo           0\n",
       "StockCode           0\n",
       "Description      1454\n",
       "Country             0\n",
       "CustomerID     135080\n",
       "dtype: int64"
      ]
     },
     "metadata": {},
     "output_type": "display_data"
    }
   ],
   "source": [
    "cat_cols = ['InvoiceNo', 'StockCode', 'Description', 'Country', 'CustomerID']\n",
    "\n",
    "print('Valores nulos por columna categórica:')\n",
    "display(df[cat_cols].isna().sum())"
   ]
  },
  {
   "cell_type": "code",
   "execution_count": null,
   "id": "640b37be",
   "metadata": {},
   "outputs": [
    {
     "data": {
      "text/html": [
       "<div>\n",
       "<style scoped>\n",
       "    .dataframe tbody tr th:only-of-type {\n",
       "        vertical-align: middle;\n",
       "    }\n",
       "\n",
       "    .dataframe tbody tr th {\n",
       "        vertical-align: top;\n",
       "    }\n",
       "\n",
       "    .dataframe thead th {\n",
       "        text-align: right;\n",
       "    }\n",
       "</style>\n",
       "<table border=\"1\" class=\"dataframe\">\n",
       "  <thead>\n",
       "    <tr style=\"text-align: right;\">\n",
       "      <th></th>\n",
       "      <th>Quantity</th>\n",
       "      <th>UnitPrice</th>\n",
       "      <th>TotalPrice</th>\n",
       "    </tr>\n",
       "  </thead>\n",
       "  <tbody>\n",
       "    <tr>\n",
       "      <th>0</th>\n",
       "      <td>6</td>\n",
       "      <td>2.55</td>\n",
       "      <td>15.30</td>\n",
       "    </tr>\n",
       "    <tr>\n",
       "      <th>1</th>\n",
       "      <td>6</td>\n",
       "      <td>3.39</td>\n",
       "      <td>20.34</td>\n",
       "    </tr>\n",
       "    <tr>\n",
       "      <th>2</th>\n",
       "      <td>8</td>\n",
       "      <td>2.75</td>\n",
       "      <td>22.00</td>\n",
       "    </tr>\n",
       "    <tr>\n",
       "      <th>3</th>\n",
       "      <td>6</td>\n",
       "      <td>3.39</td>\n",
       "      <td>20.34</td>\n",
       "    </tr>\n",
       "    <tr>\n",
       "      <th>4</th>\n",
       "      <td>6</td>\n",
       "      <td>3.39</td>\n",
       "      <td>20.34</td>\n",
       "    </tr>\n",
       "  </tbody>\n",
       "</table>\n",
       "</div>"
      ],
      "text/plain": [
       "   Quantity  UnitPrice  TotalPrice\n",
       "0         6       2.55       15.30\n",
       "1         6       3.39       20.34\n",
       "2         8       2.75       22.00\n",
       "3         6       3.39       20.34\n",
       "4         6       3.39       20.34"
      ]
     },
     "metadata": {},
     "output_type": "display_data"
    }
   ],
   "source": [
    "df['TotalPrice'] = df['Quantity'] * df['UnitPrice']\n",
    "display(df[['Quantity', 'UnitPrice', 'TotalPrice']].head())"
   ]
  },
  {
   "cell_type": "code",
   "execution_count": null,
   "id": "e2e7b873",
   "metadata": {},
   "outputs": [
    {
     "data": {
      "image/png": "[encoded data removed]",
      "text/plain": [
       "<Figure size 600x300 with 1 Axes>"
      ]
     },
     "metadata": {},
     "output_type": "display_data"
    },
    {
     "data": {
      "image/png": "[encoded data removed]",
      "text/plain": [
       "<Figure size 600x300 with 1 Axes>"
      ]
     },
     "metadata": {},
     "output_type": "display_data"
    },
    {
     "data": {
      "image/png": "[encoded data removed]",
      "text/plain": [
       "<Figure size 600x300 with 1 Axes>"
      ]
     },
     "metadata": {},
     "output_type": "display_data"
    }
   ],
   "source": [
    "import matplotlib.pyplot as plt\n",
    "import seaborn as sns\n",
    "\n",
    "numericas = ['Quantity', 'UnitPrice', 'TotalPrice']\n",
    "\n",
    "for col in numericas:\n",
    "    plt.figure(figsize=(6,3))\n",
    "    sns.histplot(df[col], bins=50, kde=True)\n",
    "    plt.title(f'Histograma de {col}')\n",
    "    plt.show()"
   ]
  },
  {
   "cell_type": "code",
   "execution_count": null,
   "id": "5f8c33ba",
   "metadata": {},
   "outputs": [
    {
     "data": {
      "image/png": "[encoded data removed]",
      "text/plain": [
       "<Figure size 600x200 with 1 Axes>"
      ]
     },
     "metadata": {},
     "output_type": "display_data"
    },
    {
     "data": {
      "image/png": "[encoded data removed]",
      "text/plain": [
       "<Figure size 600x200 with 1 Axes>"
      ]
     },
     "metadata": {},
     "output_type": "display_data"
    },
    {
     "data": {
      "image/png": "[encoded data removed]",
      "text/plain": [
       "<Figure size 600x200 with 1 Axes>"
      ]
     },
     "metadata": {},
     "output_type": "display_data"
    }
   ],
   "source": [
    "for col in numericas:\n",
    "    plt.figure(figsize=(6,2))\n",
    "    sns.boxplot(x=df[col])\n",
    "    plt.title(f'Boxplot de {col}')\n",
    "    plt.show()"
   ]
  },
  {
   "cell_type": "code",
   "execution_count": null,
   "id": "fb9906a4",
   "metadata": {},
   "outputs": [
    {
     "data": {
      "image/png": "[encoded data removed]",
      "text/plain": [
       "<Figure size 800x300 with 1 Axes>"
      ]
     },
     "metadata": {},
     "output_type": "display_data"
    },
    {
     "data": {
      "image/png": "[encoded data removed]",
      "text/plain": [
       "<Figure size 800x300 with 1 Axes>"
      ]
     },
     "metadata": {},
     "output_type": "display_data"
    },
    {
     "data": {
      "image/png": "[encoded data removed]",
      "text/plain": [
       "<Figure size 800x300 with 1 Axes>"
      ]
     },
     "metadata": {},
     "output_type": "display_data"
    }
   ],
   "source": [
    "categoricas = ['Country', 'StockCode', 'Description']\n",
    "\n",
    "for col in categoricas:\n",
    "    plt.figure(figsize=(8,3))\n",
    "    df[col].value_counts().head(10).plot(kind='bar')\n",
    "    plt.title(f'10 valores más frecuentes de {col}')\n",
    "    plt.ylabel('Frecuencia')\n",
    "    plt.xlabel(col)\n",
    "    plt.show()"
   ]
  },
  {
   "cell_type": "markdown",
   "id": "8e69fba4",
   "metadata": {},
   "source": [
    "## Parte 2. Perfilado de Calidad"
   ]
  },
  {
   "cell_type": "code",
   "execution_count": null,
   "id": "e5c59039",
   "metadata": {},
   "outputs": [
    {
     "data": {
      "text/html": [
       "<div>\n",
       "<style scoped>\n",
       "    .dataframe tbody tr th:only-of-type {\n",
       "        vertical-align: middle;\n",
       "    }\n",
       "\n",
       "    .dataframe tbody tr th {\n",
       "        vertical-align: top;\n",
       "    }\n",
       "\n",
       "    .dataframe thead th {\n",
       "        text-align: right;\n",
       "    }\n",
       "</style>\n",
       "<table border=\"1\" class=\"dataframe\">\n",
       "  <thead>\n",
       "    <tr style=\"text-align: right;\">\n",
       "      <th></th>\n",
       "      <th>nulos</th>\n",
       "      <th>% nulos</th>\n",
       "    </tr>\n",
       "  </thead>\n",
       "  <tbody>\n",
       "    <tr>\n",
       "      <th>InvoiceNo</th>\n",
       "      <td>0</td>\n",
       "      <td>0.000000</td>\n",
       "    </tr>\n",
       "    <tr>\n",
       "      <th>StockCode</th>\n",
       "      <td>0</td>\n",
       "      <td>0.000000</td>\n",
       "    </tr>\n",
       "    <tr>\n",
       "      <th>Description</th>\n",
       "      <td>1454</td>\n",
       "      <td>0.268311</td>\n",
       "    </tr>\n",
       "    <tr>\n",
       "      <th>Quantity</th>\n",
       "      <td>0</td>\n",
       "      <td>0.000000</td>\n",
       "    </tr>\n",
       "    <tr>\n",
       "      <th>InvoiceDate</th>\n",
       "      <td>0</td>\n",
       "      <td>0.000000</td>\n",
       "    </tr>\n",
       "    <tr>\n",
       "      <th>UnitPrice</th>\n",
       "      <td>0</td>\n",
       "      <td>0.000000</td>\n",
       "    </tr>\n",
       "    <tr>\n",
       "      <th>CustomerID</th>\n",
       "      <td>135080</td>\n",
       "      <td>24.926694</td>\n",
       "    </tr>\n",
       "    <tr>\n",
       "      <th>Country</th>\n",
       "      <td>0</td>\n",
       "      <td>0.000000</td>\n",
       "    </tr>\n",
       "    <tr>\n",
       "      <th>TotalPrice</th>\n",
       "      <td>0</td>\n",
       "      <td>0.000000</td>\n",
       "    </tr>\n",
       "  </tbody>\n",
       "</table>\n",
       "</div>"
      ],
      "text/plain": [
       "              nulos    % nulos\n",
       "InvoiceNo         0   0.000000\n",
       "StockCode         0   0.000000\n",
       "Description    1454   0.268311\n",
       "Quantity          0   0.000000\n",
       "InvoiceDate       0   0.000000\n",
       "UnitPrice         0   0.000000\n",
       "CustomerID   135080  24.926694\n",
       "Country           0   0.000000\n",
       "TotalPrice        0   0.000000"
      ]
     },
     "metadata": {},
     "output_type": "display_data"
    }
   ],
   "source": [
    "#nulos por columna\n",
    "nulos = df.isnull().sum().to_frame('nulos')\n",
    "nulos['% nulos'] = 100 * nulos['nulos'] / len(df)\n",
    "display(nulos)"
   ]
  },
  {
   "cell_type": "code",
   "execution_count": null,
   "id": "fcbb5338",
   "metadata": {},
   "outputs": [
    {
     "name": "stdout",
     "output_type": "stream",
     "text": [
      "Filas duplicadas: 10147\n"
     ]
    },
    {
     "data": {
      "text/html": [
       "<div>\n",
       "<style scoped>\n",
       "    .dataframe tbody tr th:only-of-type {\n",
       "        vertical-align: middle;\n",
       "    }\n",
       "\n",
       "    .dataframe tbody tr th {\n",
       "        vertical-align: top;\n",
       "    }\n",
       "\n",
       "    .dataframe thead th {\n",
       "        text-align: right;\n",
       "    }\n",
       "</style>\n",
       "<table border=\"1\" class=\"dataframe\">\n",
       "  <thead>\n",
       "    <tr style=\"text-align: right;\">\n",
       "      <th></th>\n",
       "      <th>InvoiceNo</th>\n",
       "      <th>StockCode</th>\n",
       "      <th>Description</th>\n",
       "      <th>Quantity</th>\n",
       "      <th>InvoiceDate</th>\n",
       "      <th>UnitPrice</th>\n",
       "      <th>CustomerID</th>\n",
       "      <th>Country</th>\n",
       "      <th>TotalPrice</th>\n",
       "    </tr>\n",
       "  </thead>\n",
       "  <tbody>\n",
       "    <tr>\n",
       "      <th>485</th>\n",
       "      <td>536409</td>\n",
       "      <td>22111</td>\n",
       "      <td>SCOTTIE DOG HOT WATER BOTTLE</td>\n",
       "      <td>1</td>\n",
       "      <td>2010-12-01 11:45:00</td>\n",
       "      <td>4.95</td>\n",
       "      <td>17908.0</td>\n",
       "      <td>United Kingdom</td>\n",
       "      <td>4.95</td>\n",
       "    </tr>\n",
       "    <tr>\n",
       "      <th>489</th>\n",
       "      <td>536409</td>\n",
       "      <td>22866</td>\n",
       "      <td>HAND WARMER SCOTTY DOG DESIGN</td>\n",
       "      <td>1</td>\n",
       "      <td>2010-12-01 11:45:00</td>\n",
       "      <td>2.10</td>\n",
       "      <td>17908.0</td>\n",
       "      <td>United Kingdom</td>\n",
       "      <td>2.10</td>\n",
       "    </tr>\n",
       "    <tr>\n",
       "      <th>494</th>\n",
       "      <td>536409</td>\n",
       "      <td>21866</td>\n",
       "      <td>UNION JACK FLAG LUGGAGE TAG</td>\n",
       "      <td>1</td>\n",
       "      <td>2010-12-01 11:45:00</td>\n",
       "      <td>1.25</td>\n",
       "      <td>17908.0</td>\n",
       "      <td>United Kingdom</td>\n",
       "      <td>1.25</td>\n",
       "    </tr>\n",
       "    <tr>\n",
       "      <th>517</th>\n",
       "      <td>536409</td>\n",
       "      <td>21866</td>\n",
       "      <td>UNION JACK FLAG LUGGAGE TAG</td>\n",
       "      <td>1</td>\n",
       "      <td>2010-12-01 11:45:00</td>\n",
       "      <td>1.25</td>\n",
       "      <td>17908.0</td>\n",
       "      <td>United Kingdom</td>\n",
       "      <td>1.25</td>\n",
       "    </tr>\n",
       "    <tr>\n",
       "      <th>521</th>\n",
       "      <td>536409</td>\n",
       "      <td>22900</td>\n",
       "      <td>SET 2 TEA TOWELS I LOVE LONDON</td>\n",
       "      <td>1</td>\n",
       "      <td>2010-12-01 11:45:00</td>\n",
       "      <td>2.95</td>\n",
       "      <td>17908.0</td>\n",
       "      <td>United Kingdom</td>\n",
       "      <td>2.95</td>\n",
       "    </tr>\n",
       "  </tbody>\n",
       "</table>\n",
       "</div>"
      ],
      "text/plain": [
       "    InvoiceNo StockCode                       Description  Quantity  \\\n",
       "485    536409     22111      SCOTTIE DOG HOT WATER BOTTLE         1   \n",
       "489    536409     22866     HAND WARMER SCOTTY DOG DESIGN         1   \n",
       "494    536409     21866       UNION JACK FLAG LUGGAGE TAG         1   \n",
       "517    536409     21866       UNION JACK FLAG LUGGAGE TAG         1   \n",
       "521    536409     22900   SET 2 TEA TOWELS I LOVE LONDON          1   \n",
       "\n",
       "            InvoiceDate  UnitPrice  CustomerID         Country  TotalPrice  \n",
       "485 2010-12-01 11:45:00       4.95     17908.0  United Kingdom        4.95  \n",
       "489 2010-12-01 11:45:00       2.10     17908.0  United Kingdom        2.10  \n",
       "494 2010-12-01 11:45:00       1.25     17908.0  United Kingdom        1.25  \n",
       "517 2010-12-01 11:45:00       1.25     17908.0  United Kingdom        1.25  \n",
       "521 2010-12-01 11:45:00       2.95     17908.0  United Kingdom        2.95  "
      ]
     },
     "metadata": {},
     "output_type": "display_data"
    }
   ],
   "source": [
    "#filas duplicadas\n",
    "duplicados = df.duplicated(keep=False)\n",
    "print(f\"Filas duplicadas: {duplicados.sum()}\")\n",
    "if duplicados.sum() > 0:\n",
    "    display(df[duplicados].head())"
   ]
  },
  {
   "cell_type": "code",
   "execution_count": 58,
   "id": "3d4528cd",
   "metadata": {},
   "outputs": [
    {
     "name": "stdout",
     "output_type": "stream",
     "text": [
      "Limite bajo: -12.5, Limite alto: 23.5\n",
      "Limite bajo: -3.0700000000000003, Limite alto: 8.45\n",
      "Valores anomalos en Quantity: 58619 (10.82%)\n",
      "Valores anomalos en UnitPrice: 39627 (7.31%)\n"
     ]
    },
    {
     "data": {
      "text/html": [
       "<div>\n",
       "<style scoped>\n",
       "    .dataframe tbody tr th:only-of-type {\n",
       "        vertical-align: middle;\n",
       "    }\n",
       "\n",
       "    .dataframe tbody tr th {\n",
       "        vertical-align: top;\n",
       "    }\n",
       "\n",
       "    .dataframe thead th {\n",
       "        text-align: right;\n",
       "    }\n",
       "</style>\n",
       "<table border=\"1\" class=\"dataframe\">\n",
       "  <thead>\n",
       "    <tr style=\"text-align: right;\">\n",
       "      <th></th>\n",
       "      <th>Quantity</th>\n",
       "      <th>UnitPrice</th>\n",
       "    </tr>\n",
       "  </thead>\n",
       "  <tbody>\n",
       "    <tr>\n",
       "      <th>9</th>\n",
       "      <td>32</td>\n",
       "      <td>1.69</td>\n",
       "    </tr>\n",
       "    <tr>\n",
       "      <th>16</th>\n",
       "      <td>2</td>\n",
       "      <td>9.95</td>\n",
       "    </tr>\n",
       "    <tr>\n",
       "      <th>26</th>\n",
       "      <td>24</td>\n",
       "      <td>3.75</td>\n",
       "    </tr>\n",
       "    <tr>\n",
       "      <th>27</th>\n",
       "      <td>24</td>\n",
       "      <td>3.75</td>\n",
       "    </tr>\n",
       "    <tr>\n",
       "      <th>30</th>\n",
       "      <td>24</td>\n",
       "      <td>0.65</td>\n",
       "    </tr>\n",
       "  </tbody>\n",
       "</table>\n",
       "</div>"
      ],
      "text/plain": [
       "    Quantity  UnitPrice\n",
       "9         32       1.69\n",
       "16         2       9.95\n",
       "26        24       3.75\n",
       "27        24       3.75\n",
       "30        24       0.65"
      ]
     },
     "metadata": {},
     "output_type": "display_data"
    }
   ],
   "source": [
    "#valores anomalos en Quantity y UnitPrice usando IQR\n",
    "def get_iqr_outliers(series):\n",
    "    q1, q3 = series.quantile([0.25, 0.75])\n",
    "    iqr = q3 - q1\n",
    "    limite_bajo = q1 - 1.5 * iqr\n",
    "    limite_alto = q3 + 1.5 * iqr\n",
    "    print(f\"Limite bajo: {limite_bajo}, Limite alto: {limite_alto}\")\n",
    "    return (series < limite_bajo) | (series > limite_alto)\n",
    "\n",
    "outliers_quantity = get_iqr_outliers(df['Quantity'])\n",
    "outliers_unitprice = get_iqr_outliers(df['UnitPrice'])\n",
    "\n",
    "print(f\"Valores anomalos en Quantity: {outliers_quantity.sum()} ({100*outliers_quantity.sum()/len(df):.2f}%)\")\n",
    "print(f\"Valores anomalos en UnitPrice: {outliers_unitprice.sum()} ({100*outliers_unitprice.sum()/len(df):.2f}%)\")\n",
    "\n",
    "display(df[outliers_quantity | outliers_unitprice][['Quantity', 'UnitPrice']].head())"
   ]
  },
  {
   "cell_type": "markdown",
   "id": "b7690566",
   "metadata": {},
   "source": [
    "## Parte 3. Limpieza"
   ]
  },
  {
   "cell_type": "code",
   "execution_count": null,
   "id": "5308a116",
   "metadata": {},
   "outputs": [
    {
     "name": "stdout",
     "output_type": "stream",
     "text": [
      "Duplicados exactos antes: 10147\n",
      "Duplicados exactos después: 0\n",
      "Duplicados por clave antes: 10615\n",
      "Duplicados por clave después: 0\n",
      "Filas eliminadas por Quantity < 0 o UnitPrice < 0: 10477\n"
     ]
    }
   ],
   "source": [
    "# Criterio de prioridad:\n",
    "# se eliminan duplicados exactos, conservando la primera fila encontrada.\n",
    "# para duplicados por clave (InvoiceNo, StockCode, CustomerID), se conserva la fila con UnitPrice más alto.\n",
    "# se eliminan filas con Quantity < 0 y UnitPrice < 0\n",
    "print(f\"Duplicados exactos antes: {df.duplicated(keep=False).sum()}\")\n",
    "\n",
    "df_sin_duplicados = df.drop_duplicates(keep='first')\n",
    "print(f\"Duplicados exactos después: {df_sin_duplicados.duplicated(keep=False).sum()}\")\n",
    "\n",
    "clave = ['InvoiceNo', 'StockCode', 'CustomerID']\n",
    "print(f\"Duplicados por clave antes: {df_sin_duplicados.duplicated(subset=clave, keep=False).sum()}\")\n",
    "\n",
    "df_limpio = df_sin_duplicados.sort_values('UnitPrice', ascending=False).drop_duplicates(subset=clave, keep='first')\n",
    "print(f\"Duplicados por clave después: {df_limpio.duplicated(subset=clave, keep=False).sum()}\")\n",
    "\n",
    "num_filas_antes = len(df_limpio)\n",
    "df_limpio = df_limpio[(df_limpio['Quantity'] >= 0) & (df_limpio['UnitPrice'] >= 0)]\n",
    "num_eliminadas = num_filas_antes - len(df_limpio)\n",
    "print(f\"Filas eliminadas por Quantity < 0 o UnitPrice < 0: {num_eliminadas}\")"
   ]
  },
  {
   "cell_type": "code",
   "execution_count": null,
   "id": "30ff758b",
   "metadata": {},
   "outputs": [
    {
     "name": "stdout",
     "output_type": "stream",
     "text": [
      "Total de filas: 520748\n",
      "Filas con CustomerID: 387875 (74.48%)\n",
      "Filas sin CustomerID: 132873 (25.52%)\n"
     ]
    }
   ],
   "source": [
    "#impacto de valores faltantes en CustomerID\n",
    "\n",
    "total_filas = len(df_limpio)\n",
    "con_customer = df_limpio['CustomerID'].notnull().sum()\n",
    "sin_customer = df_limpio['CustomerID'].isnull().sum()\n",
    "\n",
    "print(f\"Total de filas: {total_filas}\")\n",
    "print(f\"Filas con CustomerID: {con_customer} ({con_customer/total_filas*100:.2f}%)\")\n",
    "print(f\"Filas sin CustomerID: {sin_customer} ({sin_customer/total_filas*100:.2f}%)\")"
   ]
  },
  {
   "cell_type": "code",
   "execution_count": null,
   "id": "a1c4c1a2",
   "metadata": {},
   "outputs": [
    {
     "name": "stdout",
     "output_type": "stream",
     "text": [
      "Productos que solo existen en filas SIN CustomerID (se perderían): 276\n",
      "Ejemplos: ['82613a', '84872a', '72803B', '84270', '90075']\n",
      "Países que solo existen en filas SIN CustomerID (se perderían): 1\n",
      "Ejemplos: ['Hong Kong']\n"
     ]
    }
   ],
   "source": [
    "# Set de productos y países utilizando TODAS las filas (con y sin CustomerID)\n",
    "productos_todos = set(df_limpio['StockCode'])\n",
    "paises_todos = set(df_limpio['Country'])\n",
    "\n",
    "# Set de productos y países utilizando solo filas CON CustomerID\n",
    "productos_con_cid = set(df_limpio[df_limpio['CustomerID'].notnull()]['StockCode'])\n",
    "paises_con_cid = set(df_limpio[df_limpio['CustomerID'].notnull()]['Country'])\n",
    "\n",
    "# Productos o países que solo aparecen en filas sin CustomerID\n",
    "productos_perdidos = productos_todos - productos_con_cid\n",
    "paises_perdidos = paises_todos - paises_con_cid\n",
    "\n",
    "print(f\"Productos que solo existen en filas SIN CustomerID (se perderían): {len(productos_perdidos)}\")\n",
    "if productos_perdidos:\n",
    "    print('Ejemplos:', list(productos_perdidos)[:5])\n",
    "print(f\"Países que solo existen en filas SIN CustomerID (se perderían): {len(paises_perdidos)}\")\n",
    "if paises_perdidos:\n",
    "    print('Ejemplos:', list(paises_perdidos)[:5])"
   ]
  },
  {
   "cell_type": "markdown",
   "id": "711a17fa",
   "metadata": {},
   "source": [
    "## Parte 4. Data Contracts "
   ]
  },
  {
   "cell_type": "code",
   "execution_count": null,
   "id": "43933a0f",
   "metadata": {},
   "outputs": [],
   "source": [
    "{\n",
    "    \"name\": \"Ecommerce Data\",\n",
    "    \"version\": \"1.0.0\",\n",
    "    \"description\": \"Datos de transacciones de un ecommerce\",\n",
    "    \"schema\": {\n",
    "        \"InvoiceNo\": {\n",
    "            \"type\": \"string\",\n",
    "            \"required\": true,\n",
    "            \"unique\": false,\n",
    "        },\n",
    "        \"InvoiceDate\": {\n",
    "            \"type\": \"datetime\",\n",
    "            \"required\": true,\n",
    "            \"format\": \"%m/%d/%Y %H:%M\",\n",
    "        },\n",
    "        \"StockCode\": {\n",
    "            \"type\": \"string\",\n",
    "            \"required\": true,\n",
    "        },\n",
    "        \"Description\": {\n",
    "            \"type\": \"string\",\n",
    "            \"required\": true,\n",
    "        },\n",
    "        \"Quantity\": {\n",
    "            \"type\": \"integer\",\n",
    "            \"required\": true,\n",
    "            \"min_value\": 1,\n",
    "        },\n",
    "        \"UnitPrice\": {\n",
    "            \"type\": \"float\",\n",
    "            \"required\": true,\n",
    "            \"min_value\": 0.0,\n",
    "        },\n",
    "        \"CustomerID\": {\n",
    "            \"type\": \"integer\",\n",
    "            \"required\": true,\n",
    "        }\n",
    "    }\n",
    "}"
   ]
  },
  {
   "cell_type": "markdown",
   "id": "09b36c5c",
   "metadata": {},
   "source": [
    "## Parte 5. Conclusiones"
   ]
  },
  {
   "cell_type": "code",
   "execution_count": null,
   "id": "afdd48dd",
   "metadata": {},
   "outputs": [
    {
     "data": {
      "text/html": [
       "<div>\n",
       "<style scoped>\n",
       "    .dataframe tbody tr th:only-of-type {\n",
       "        vertical-align: middle;\n",
       "    }\n",
       "\n",
       "    .dataframe tbody tr th {\n",
       "        vertical-align: top;\n",
       "    }\n",
       "\n",
       "    .dataframe thead th {\n",
       "        text-align: right;\n",
       "    }\n",
       "</style>\n",
       "<table border=\"1\" class=\"dataframe\">\n",
       "  <thead>\n",
       "    <tr style=\"text-align: right;\">\n",
       "      <th></th>\n",
       "      <th>Antes de limpieza</th>\n",
       "      <th>Después de limpieza</th>\n",
       "    </tr>\n",
       "  </thead>\n",
       "  <tbody>\n",
       "    <tr>\n",
       "      <th>Filas totales</th>\n",
       "      <td>541909</td>\n",
       "      <td>520748</td>\n",
       "    </tr>\n",
       "    <tr>\n",
       "      <th>Duplicados exactos</th>\n",
       "      <td>10147</td>\n",
       "      <td>0</td>\n",
       "    </tr>\n",
       "    <tr>\n",
       "      <th>Filas sin CustomerID</th>\n",
       "      <td>135080</td>\n",
       "      <td>132873</td>\n",
       "    </tr>\n",
       "    <tr>\n",
       "      <th>Quantity &lt; 0</th>\n",
       "      <td>10624</td>\n",
       "      <td>0</td>\n",
       "    </tr>\n",
       "    <tr>\n",
       "      <th>UnitPrice &lt; 0</th>\n",
       "      <td>2</td>\n",
       "      <td>0</td>\n",
       "    </tr>\n",
       "  </tbody>\n",
       "</table>\n",
       "</div>"
      ],
      "text/plain": [
       "                      Antes de limpieza  Después de limpieza\n",
       "Filas totales                    541909               520748\n",
       "Duplicados exactos                10147                    0\n",
       "Filas sin CustomerID             135080               132873\n",
       "Quantity < 0                      10624                    0\n",
       "UnitPrice < 0                         2                    0"
      ]
     },
     "metadata": {},
     "output_type": "display_data"
    }
   ],
   "source": [
    "resumen = pd.DataFrame({\n",
    "    'Antes de limpieza': [\n",
    "        len(df),\n",
    "        df.duplicated(keep=False).sum(),\n",
    "        df.isna().sum()['CustomerID'],\n",
    "        (df['Quantity'] < 0).sum(),\n",
    "        (df['UnitPrice'] < 0).sum()\n",
    "    ],\n",
    "    'Después de limpieza': [\n",
    "        len(df_limpio),\n",
    "        df_limpio.duplicated(keep=False).sum(),\n",
    "        df_limpio.isna().sum()['CustomerID'],\n",
    "        (df_limpio['Quantity'] < 0).sum(),\n",
    "        (df_limpio['UnitPrice'] < 0).sum()\n",
    "    ]\n",
    "}, index=[\n",
    "    'Filas totales',\n",
    "    'Duplicados exactos',\n",
    "    'Filas sin CustomerID',\n",
    "    'Quantity < 0',\n",
    "    'UnitPrice < 0'\n",
    "])\n",
    "display(resumen)"
   ]
  }
 ],
 "metadata": {
  "kernelspec": {
   "display_name": "fundamentos-ingenieria-datos",
   "language": "python",
   "name": "python3"
  },
  "language_info": {
   "codemirror_mode": {
    "name": "ipython",
    "version": 3
   },
   "file_extension": ".py",
   "mimetype": "text/x-python",
   "name": "python",
   "nbconvert_exporter": "python",
   "pygments_lexer": "ipython3",
   "version": "3.13.7"
  }
 },
 "nbformat": 4,
 "nbformat_minor": 5
}
