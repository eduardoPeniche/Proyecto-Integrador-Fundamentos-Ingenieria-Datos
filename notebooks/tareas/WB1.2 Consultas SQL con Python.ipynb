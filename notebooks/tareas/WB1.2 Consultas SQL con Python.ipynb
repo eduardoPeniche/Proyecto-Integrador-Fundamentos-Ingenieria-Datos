{
 "cells": [
  {
   "cell_type": "markdown",
   "id": "d4f42b75-84a3-4353-b3ec-6d9c5abd82da",
   "metadata": {},
   "source": [
    "# WB4.3 Introducción a SQL\n",
    "\n",
    "En esta cuaderno de trabajo se explorarán la base de datos `music.db` mediante consultas de SQL. La base de datos contiene tres tablas:\n",
    "* `songs`, que contiene un identificador `_id`, el título de la canción `title` y el album `album`. \n",
    "* `albums`, que contiene un identificador `_id`, el nombre del album `name` y el artista `artist`. \n",
    "* `artists`, que contiene un identificador `_id` y su nombre `name`. \n",
    "\n",
    "Completa las siguientes instrucciones de acuerdo a lo visto en el tema."
   ]
  },
  {
   "cell_type": "markdown",
   "id": "5e6d0b6b-2fb4-4f28-9baf-cdbe85c06497",
   "metadata": {},
   "source": [
    "## 1. Acceso a los Datos con Queries."
   ]
  },
  {
   "cell_type": "markdown",
   "id": "5c503d46-1a47-4968-aa89-a4024569ae18",
   "metadata": {},
   "source": [
    "1. Crea la conexión y un cursor a la base de datos."
   ]
  },
  {
   "cell_type": "code",
   "execution_count": 10,
   "id": "ed933d5d-df90-41d8-8dfd-adf7b158ecd6",
   "metadata": {},
   "outputs": [],
   "source": [
    "import sqlite3"
   ]
  },
  {
   "cell_type": "code",
   "execution_count": 11,
   "id": "c8931805",
   "metadata": {},
   "outputs": [
    {
     "name": "stdout",
     "output_type": "stream",
     "text": [
      "/Users/eduardo/Developer/TSW/fundamentos/fundamentos-ingenieria-datos/notebooks/tareas\n"
     ]
    }
   ],
   "source": [
    "import os\n",
    "print(os.getcwd())"
   ]
  },
  {
   "cell_type": "code",
   "execution_count": 12,
   "id": "88f1a543-2d87-4ebe-b463-ebc7a7a75cf9",
   "metadata": {},
   "outputs": [],
   "source": [
    "connection = sqlite3.connect(\"../tutoriales/content/music.db\")"
   ]
  },
  {
   "cell_type": "code",
   "execution_count": 13,
   "id": "4802a115-7b87-48ce-9dbb-a03398981167",
   "metadata": {},
   "outputs": [],
   "source": [
    "cursor = connection.cursor()"
   ]
  },
  {
   "cell_type": "markdown",
   "id": "9d8fb880-6422-43d6-a493-154145b8c6ac",
   "metadata": {},
   "source": [
    "2. Explora todas las columnas en todas antes mencionadas tablas. Muestra los primeros 10 registros."
   ]
  },
  {
   "cell_type": "code",
   "execution_count": 14,
   "id": "69ca23df-d910-4a5d-ae0b-660fef5e9dd6",
   "metadata": {},
   "outputs": [
    {
     "name": "stdout",
     "output_type": "stream",
     "text": [
      "(1, 2, \"I Can't Quit You Baby\", 343)\n",
      "(2, 1, 'Taking the Easy Way Out Again', 311)\n",
      "(3, 6, \"Let's Have A Party\", 260)\n",
      "(4, 7, 'Flaming Telepaths', 104)\n",
      "(5, 11, \"Yearnin'\", 37)\n",
      "(6, 1, 'Bat Out Of Hell', 290)\n",
      "(7, 5, 'Evil Woman', 143)\n",
      "(8, 7, 'Rat Salad', 50)\n",
      "(9, 8, 'Young is a World', 402)\n",
      "(10, 3, 'Sam With The Showing Scalp Flat Top', 429)\n"
     ]
    }
   ],
   "source": [
    "cursor.execute(\"SELECT * FROM songs LIMIT 10\")\n",
    "results = cursor.fetchall()\n",
    "for r in results:\n",
    "    print(r)"
   ]
  },
  {
   "cell_type": "code",
   "execution_count": 15,
   "id": "c035bf52-12d8-4584-b800-3f2e07322647",
   "metadata": {},
   "outputs": [
    {
     "name": "stdout",
     "output_type": "stream",
     "text": [
      "(1, 'Tales of the Crown', 16)\n",
      "(2, 'The Masquerade Ball', 16)\n",
      "(3, 'Grace', 159)\n",
      "(4, 'Behind Closed Doors', 147)\n",
      "(5, 'Day & Age', 121)\n",
      "(6, 'Sweet Fanny Adams', 172)\n",
      "(7, 'Spem In Alium', 199)\n",
      "(8, 'Night In The Ruts', 152)\n",
      "(9, 'Impurity', 95)\n",
      "(10, 'Concerto For Group and Orchestra', 196)\n"
     ]
    }
   ],
   "source": [
    "cursor.execute(\"SELECT * FROM albums LIMIT 10\")\n",
    "results = cursor.fetchall()\n",
    "for r in results:\n",
    "    print(r)"
   ]
  },
  {
   "cell_type": "code",
   "execution_count": 16,
   "id": "16817ec0-b19d-4d04-a075-4f54f99f57c6",
   "metadata": {},
   "outputs": [
    {
     "name": "stdout",
     "output_type": "stream",
     "text": [
      "(1, 'Mahogany Rush')\n",
      "(2, 'Elf')\n",
      "(3, 'Mehitabel')\n",
      "(4, 'Big Brother & The Holding Company')\n",
      "(5, 'Roy Harper')\n",
      "(6, 'Pat Benatar')\n",
      "(7, 'Rory Gallagher')\n",
      "(8, 'Iron Maiden')\n",
      "(9, 'Blaster Bates')\n",
      "(10, 'Procol Harum')\n"
     ]
    }
   ],
   "source": [
    "cursor.execute(\"SELECT * FROM artists LIMIT 10\")\n",
    "results = cursor.fetchall()\n",
    "for r in results:\n",
    "    print(r)"
   ]
  },
  {
   "cell_type": "markdown",
   "id": "912edb7c-ddc4-4d9b-ad51-347226155c0f",
   "metadata": {},
   "source": [
    "3. Iron Maiden tiene como `_id = 8`en la tabla de artistas. Emplea este id para identificar sus álbumes en la tabla `albums`. Observa que la columna `artist` hace referencia a los id de los artistas. "
   ]
  },
  {
   "cell_type": "code",
   "execution_count": 17,
   "id": "707ba2e3-0715-4255-8b46-311b4c98928e",
   "metadata": {},
   "outputs": [
    {
     "name": "stdout",
     "output_type": "stream",
     "text": [
      "(236, 'The Number of the Beast', 8)\n",
      "(412, 'Powerslave', 8)\n",
      "(420, 'Seventh Son Of A Seventh Son', 8)\n"
     ]
    }
   ],
   "source": [
    "cursor.execute(\"SELECT * FROM albums WHERE artist = 8\")\n",
    "results = cursor.fetchall()\n",
    "for r in results:\n",
    "    print(r)"
   ]
  },
  {
   "cell_type": "markdown",
   "id": "b58acaad-42c5-47be-99d3-b9f31efc574c",
   "metadata": {},
   "source": [
    "4. Muestras las canciones del album \"The Number of the Beast\". Presenta tus resultados en orden alfabético."
   ]
  },
  {
   "cell_type": "code",
   "execution_count": 18,
   "id": "c0f8cab4-70dd-4b02-bda5-29f6625f6675",
   "metadata": {},
   "outputs": [
    {
     "name": "stdout",
     "output_type": "stream",
     "text": [
      "(3464, 4, '22 Acacia Avenue (1998 Digital Remaster)', 236)\n",
      "(2295, 2, 'Children Of The Damned (1998 Digital Remaster)', 236)\n",
      "(4515, 7, 'Gangland (1998 Digital Remaster)', 236)\n",
      "(3796, 9, 'Hallowed Be Thy Name (1998 Digital Remaster)', 236)\n",
      "(2332, 1, 'Invaders (1998 Digital Remaster)', 236)\n",
      "(195, 6, 'Run To The Hills (1998 Digital Remaster)', 236)\n",
      "(4333, 5, 'The Number Of The Beast (1998 Digital Remaster)', 236)\n",
      "(2690, 3, 'The Prisoner (1998 Digital Remaster)', 236)\n",
      "(275, 8, 'Total Eclipse (1998 Digital Remaster)', 236)\n"
     ]
    }
   ],
   "source": [
    "cursor.execute(\"SELECT * FROM songs WHERE album = '236' ORDER BY title ASC\")\n",
    "results = cursor.fetchall()\n",
    "for r in results:\n",
    "    print(r)\n"
   ]
  },
  {
   "cell_type": "markdown",
   "id": "1beb281b-894c-420a-880e-e255f5be1a5a",
   "metadata": {
    "tags": []
   },
   "source": [
    "## 2. Agregaciones y Agrupamientos de Datos."
   ]
  },
  {
   "cell_type": "markdown",
   "id": "ccf2faff-55aa-49df-a6bb-a5e8c0f3049b",
   "metadata": {},
   "source": [
    "1. ¿Cuantas canciones, albumes y artistas se tienen registrados en la base de datos?"
   ]
  },
  {
   "cell_type": "code",
   "execution_count": 28,
   "id": "081f1b12-3438-443a-8267-ee05995f5464",
   "metadata": {},
   "outputs": [
    {
     "name": "stdout",
     "output_type": "stream",
     "text": [
      "Canciones: 5350\n"
     ]
    }
   ],
   "source": [
    "cursor.execute(\"SELECT COUNT(*) FROM songs\")\n",
    "results = cursor.fetchone()\n",
    "print(f\"Canciones: {results[0]}\")"
   ]
  },
  {
   "cell_type": "code",
   "execution_count": 26,
   "id": "44c726e2-6072-4804-b615-571abfecde33",
   "metadata": {},
   "outputs": [
    {
     "name": "stdout",
     "output_type": "stream",
     "text": [
      "Albumes: 439\n"
     ]
    }
   ],
   "source": [
    "cursor.execute(\"SELECT COUNT(*) FROM albums\")\n",
    "results = cursor.fetchone()\n",
    "print(f\"Albumes: {results[0]}\")"
   ]
  },
  {
   "cell_type": "code",
   "execution_count": 27,
   "id": "5b6e8806-2f7c-478b-98c4-c0500be9901b",
   "metadata": {},
   "outputs": [
    {
     "name": "stdout",
     "output_type": "stream",
     "text": [
      "Artistas: 201\n"
     ]
    }
   ],
   "source": [
    "cursor.execute(\"SELECT COUNT(*) FROM artists\")\n",
    "results = cursor.fetchone()\n",
    "print(f\"Artistas: {results[0]}\")"
   ]
  },
  {
   "cell_type": "markdown",
   "id": "51b5ed2c-6463-41b9-852c-e5df78e620cb",
   "metadata": {},
   "source": [
    "2. Agrupa la tabla albums por artista para identificar qué cuales son los 5 artistas que tienen más albumes."
   ]
  },
  {
   "cell_type": "code",
   "execution_count": 30,
   "id": "b91d7345-d5f8-48a1-9cd6-3e973cb3b286",
   "metadata": {},
   "outputs": [
    {
     "name": "stdout",
     "output_type": "stream",
     "text": [
      "('Black Sabbath', 18)\n",
      "('Axel Rudi Pell', 15)\n",
      "('Led Zeppelin', 14)\n",
      "('Deep Purple', 13)\n",
      "('Aerosmith', 13)\n"
     ]
    }
   ],
   "source": [
    "cursor.execute(\"SELECT artists.name, COUNT(*) FROM albums JOIN artists ON albums.artist = artists._id GROUP BY artist ORDER BY COUNT(*) DESC LIMIT 5\")\n",
    "results = cursor.fetchall()\n",
    "for r in results:\n",
    "    print(r)"
   ]
  },
  {
   "cell_type": "markdown",
   "id": "5d22afd2-5827-49eb-b733-0d8454a6c3d3",
   "metadata": {},
   "source": [
    "3. Presenta el nombre de los artistas identificados en el punto anterior."
   ]
  },
  {
   "cell_type": "code",
   "execution_count": 31,
   "id": "7d1be615-d89f-4804-af5c-022d186298a6",
   "metadata": {},
   "outputs": [
    {
     "name": "stdout",
     "output_type": "stream",
     "text": [
      "('Black Sabbath', 18)\n",
      "('Axel Rudi Pell', 15)\n",
      "('Led Zeppelin', 14)\n",
      "('Deep Purple', 13)\n",
      "('Aerosmith', 13)\n"
     ]
    }
   ],
   "source": [
    "cursor.execute(\"SELECT artists.name, COUNT(*) FROM albums JOIN artists ON albums.artist = artists._id GROUP BY artist ORDER BY COUNT(*) DESC LIMIT 5\")\n",
    "results = cursor.fetchall()\n",
    "for r in results:\n",
    "    print(r)"
   ]
  },
  {
   "cell_type": "markdown",
   "id": "fc2523ba-0a74-44bc-b23f-1ac3652090f2",
   "metadata": {},
   "source": [
    "4. ¿Cuál es el album con más canciones? Investiga sobre este album en la red."
   ]
  },
  {
   "cell_type": "code",
   "execution_count": 32,
   "id": "41ec3f73-4ec6-4fdb-a84c-157e0d6ce6d4",
   "metadata": {},
   "outputs": [
    {
     "name": "stdout",
     "output_type": "stream",
     "text": [
      "Album con más canciones: Cornology\n",
      "Número de canciones: 72\n"
     ]
    }
   ],
   "source": [
    "cursor.execute(\"SELECT albums.name, COUNT(*) FROM songs JOIN albums ON songs.album = albums._id GROUP BY album ORDER BY COUNT(*) DESC LIMIT 1\")\n",
    "results = cursor.fetchone()\n",
    "print(f\"Album con más canciones: {results[0]}\")\n",
    "print(f\"Número de canciones: {results[1]}\")\n"
   ]
  },
  {
   "cell_type": "code",
   "execution_count": null,
   "id": "ea9f7d28-ad1c-42d5-9fea-af526e4ada89",
   "metadata": {},
   "outputs": [],
   "source": []
  },
  {
   "cell_type": "code",
   "execution_count": null,
   "id": "d6881fec-6ba1-459e-9760-cff0fd64bf2d",
   "metadata": {},
   "outputs": [],
   "source": []
  },
  {
   "cell_type": "markdown",
   "id": "a1bae3b2-4329-464e-ace2-e86c082e7f72",
   "metadata": {},
   "source": [
    "## 3. Combinación de Tablas."
   ]
  },
  {
   "cell_type": "markdown",
   "id": "7fa30899-4f05-4070-ba10-bd0fcf9cb09b",
   "metadata": {},
   "source": [
    "1. Muestra todas el nombre canciones del album \"Seventh Son Of A Seventh Son\" que tiene por '_id = 420'. Presenta la lista en el *track order* (`track`)."
   ]
  },
  {
   "cell_type": "code",
   "execution_count": 34,
   "id": "b5a126b1-6878-4eda-8317-59d8a5268f55",
   "metadata": {},
   "outputs": [
    {
     "name": "stdout",
     "output_type": "stream",
     "text": [
      "(1, 'Moonchild (1998 Digital Remaster)')\n",
      "(2, 'Infinite Dreams (1998 Digital Remaster)')\n",
      "(3, 'Can I Play With Madness (1998 Digital Remaster)')\n",
      "(4, 'The Evil That Men Do (1998 Digital Remaster)')\n",
      "(5, 'Seventh Son Of A Seventh Son (1998 Digital Remaster)')\n",
      "(6, 'The Prophecy (1998 Digital Remaster)')\n",
      "(7, 'The Clairvoyant (1998 Digital Remaster)')\n",
      "(8, 'Only The Good Die Young (1998 Digital Remaster)')\n"
     ]
    }
   ],
   "source": [
    "cursor.execute(\"SELECT songs.track, songs.title FROM songs JOIN albums ON songs.album = albums._id WHERE albums._id = 420 ORDER BY songs.track\")\n",
    "results = cursor.fetchall()\n",
    "for r in results:\n",
    "    print(r)\n"
   ]
  },
  {
   "cell_type": "markdown",
   "id": "533e3871-97ac-4e5e-a40e-1b374edb27bc",
   "metadata": {},
   "source": [
    "2. Obtén todas las canciones de Aeroesmith en orden alfabético. Solo incluye el título en la salida ¿Cuántas son?"
   ]
  },
  {
   "cell_type": "code",
   "execution_count": 40,
   "id": "c6012e01-c6c3-40df-bfc1-82c0c166c95c",
   "metadata": {},
   "outputs": [
    {
     "name": "stdout",
     "output_type": "stream",
     "text": [
      "(Dulcimer Stomp) The Other Side\n",
      "(Going Down) Love In An Elevator\n",
      "(Hoodoo) Voodoo Medicine Man\n",
      "(Water Song) Janie's Got A Gun\n",
      "Adam's Apple\n",
      "Adam's Apple\n",
      "Ain't That A Bitch\n",
      "Amazing\n",
      "Amazing\n",
      "Angel\n",
      "Angel\n",
      "Attitude Adjustment\n",
      "Avant Garden\n",
      "Back In The Saddle\n",
      "Beyond Beautiful\n",
      "Big Ten Inch Record\n",
      "Blind Man\n",
      "Bone To Bone (Coney Island White Fish Boy)\n",
      "Boogie Man\n",
      "Can't Stop Messin'\n",
      "Cheese Cake\n",
      "Chip Away The Stone\n",
      "Chip Away The Stone\n",
      "Chiquita\n",
      "Come Together\n",
      "Crash\n",
      "Crazy\n",
      "Crazy\n",
      "Critical Mass\n",
      "Cryin'\n",
      "Cryin'\n",
      "Darkness\n",
      "Deuces Are Wild\n",
      "Don't Get Mad Get Even\n",
      "Dream On\n",
      "Dream On\n",
      "Drop Dead Gorgeous\n",
      "Dude (Looks Like A Lady)\n",
      "Dude (Looks Like A Lady)\n",
      "Dude (Looks Like A Lady)- live\n",
      "Eat The Rich\n",
      "Eat The Rich\n",
      "F.I.N.E.\n",
      "Face\n",
      "Fallen Angels\n",
      "Falling In Love (Is Hard On The Knees)\n",
      "Falling Off\n",
      "Fever\n",
      "Flesh\n",
      "Fly Away From Here\n",
      "Full Circle\n",
      "Get A Grip\n",
      "Girl Keeps Coming Apart\n",
      "Gotta Love It\n",
      "Gypsy Boots\n",
      "Hangman Jury\n",
      "Heart's Done Time\n",
      "Hole In My Soul\n",
      "I Ain't Got You\n",
      "I'm Down\n",
      "Intro\n",
      "Jaded\n",
      "Jailbait\n",
      "Janie's Got A Gun\n",
      "Just Push Play\n",
      "Kiss Your Past Good-Bye\n",
      "Last Child\n",
      "Let The Music do the Talking\n",
      "Lick and a Promise\n",
      "Light Inside\n",
      "Line Up\n",
      "Livin' On The Edge\n",
      "Livin' On The Edge\n",
      "Lord Of The Thighs\n",
      "Lord Of The Thighs\n",
      "Lord Of The Thighs\n",
      "Love In An Elevator\n",
      "Luv Lies\n",
      "Magic Touch\n",
      "Make It\n",
      "Mama Kin\n",
      "Mama Kin\n",
      "Mama Kin\n",
      "Mia\n",
      "Monkey On My Back\n",
      "Mother Popcorn Draw The Line\n",
      "Movin' Out\n",
      "My Fist Your Face\n",
      "My Girl\n",
      "Nine Lives\n",
      "No More No More\n",
      "No Surprize\n",
      "No Surprize\n",
      "Nobody's Fault\n",
      "One Way Street\n",
      "Outta Your Head\n",
      "Pandora's Box\n",
      "Permanent Vacation\n",
      "Pink\n",
      "Rag Doll\n",
      "Rag Doll\n",
      "Rats in the Cellar\n",
      "Reefer Head Woman\n",
      "Remember (Walking In The Sand)\n",
      "Round And Round\n",
      "Round And Round\n",
      "S.O.S.\n",
      "S.O.S. (Too Bad)\n",
      "Same Old Song And Dance\n",
      "Seasons Of Wither\n",
      "Shame On You\n",
      "She's On Fire\n",
      "Shela\n",
      "Shut Up And Dance\n",
      "Sick As A Dog\n",
      "Sight For Sore Eyes\n",
      "Simoriah\n",
      "Somebody\n",
      "Something's Gotta Give\n",
      "Spaced\n",
      "St. John\n",
      "Sunshine\n",
      "Sweet Emotion\n",
      "Sweet Emotion\n",
      "Taste Of India\n",
      "The Farm\n",
      "The Movie\n",
      "The Other Side\n",
      "The Reason A dog\n",
      "The hop\n",
      "Think About It\n",
      "Three Mile Smile\n",
      "Toys In The Attic\n",
      "Toys In The Attic\n",
      "Train Kept A Rollin'\n",
      "Train Kept A Rollin'\n",
      "Train Kept A Rollin'\n",
      "Trip Hoppin'\n",
      "Uncle Salty\n",
      "Under My Skin\n",
      "Walk On Down\n",
      "Walk On Water\n",
      "Walk This Way\n",
      "Walk This Way\n",
      "Walkin' The Dog\n",
      "What It Takes\n",
      "What It Takes\n",
      "Woman Of The World\n",
      "Write Me\n",
      "You See Me Crying\n",
      "Young Lust\n",
      "\n",
      "Número de canciones de Aeroesmith: 151\n"
     ]
    }
   ],
   "source": [
    "cursor.execute(\"SELECT songs.title FROM songs JOIN albums ON songs.album = albums._id WHERE albums.artist = 152 ORDER BY songs.title ASC\")\n",
    "results = cursor.fetchall()\n",
    "for r in results:\n",
    "    print(r[0])\n",
    "\n",
    "print(f\"\\nNúmero de canciones de Aeroesmith: {len(results)}\")"
   ]
  },
  {
   "cell_type": "code",
   "execution_count": null,
   "id": "855e4d08-91fd-4976-8bfb-e28d13ff644d",
   "metadata": {},
   "outputs": [],
   "source": []
  },
  {
   "cell_type": "markdown",
   "id": "7102ad70-d568-4c9a-bf8b-e8ab701446c6",
   "metadata": {},
   "source": [
    "## Referencias\n",
    "* Actividad basada en SQLite-Exercises: https://github.com/IancuIulian/SQLite-Exercises"
   ]
  },
  {
   "cell_type": "code",
   "execution_count": null,
   "id": "b200ee4f-25a5-4870-9534-b79dd4f48744",
   "metadata": {},
   "outputs": [],
   "source": []
  }
 ],
 "metadata": {
  "kernelspec": {
   "display_name": "fundamentos-ingenieria-datos",
   "language": "python",
   "name": "python3"
  },
  "language_info": {
   "codemirror_mode": {
    "name": "ipython",
    "version": 3
   },
   "file_extension": ".py",
   "mimetype": "text/x-python",
   "name": "python",
   "nbconvert_exporter": "python",
   "pygments_lexer": "ipython3",
   "version": "3.13.7"
  }
 },
 "nbformat": 4,
 "nbformat_minor": 5
}
