{
 "cells": [
  {
   "cell_type": "markdown",
   "metadata": {
    "id": "Ga8PfUyTkRSD"
   },
   "source": [
    "# API del DENUE\n",
    "\n",
    "La API del DENUE te permite consultar datos de identificación, ubicación, actividad económica y tamaño de más de 5 millones de establecimientos a nivel nacional, por entidad federativa y municipio. Esta puede utilizarse para crear aplicaciones que muestren la información directamente de las bases de datos del INEGI en el preciso momento en que se actualiza.\n",
    "\n",
    "Los indicadores que se tienen disponible por establecimiento son los siguientes:\n",
    "* CLEE\n",
    "* Id de establecimiento\n",
    "* Nombre del establecimiento\n",
    "* Razón social\n",
    "* Clase de la actividad económica\n",
    "* Estrato (Personal ocupado)\n",
    "* Tipo de la vialidad\n",
    "* Calle\n",
    "* Número exterior\n",
    "* Número interior\n",
    "* Colonia\n",
    "* Código postal\n",
    "* Localidad, municipio y entidad federativa\n",
    "* Teléfono\n",
    "* Correo electrónico\n",
    "* Página de internet\n",
    "* Tipo de establecimiento\n",
    "* Longitud\n",
    "* Latitud\n",
    "\n",
    "Esta API provee de diferentes métodos para obtener información incluyendo:\n",
    "* **Buscar**. Realiza una consulta de todos los establecimientos que cumplan las condiciones definidas.\n",
    "* **Ficha**. Obtiene la información de un establecimiento en específico.\n",
    "* **Nombre**. Realiza una consulta de todos los establecimientos por nombre o razón social y puede ser acotado por entidad federativa.\n",
    "* **BuscarEntidad**. Realiza una consulta de todos los establecimientos y puede ser acotada por entidad federativa.\n",
    "* **BuscarAreaAct**. Realiza una consulta de todos los establecimientos con la opción de acotar la búsqueda por área geográfica, actividad económica, nombre y clave del establecimiento.\n",
    "* **BuscarAreaActEstr**. Realiza una consulta de todos los establecimientos con la opción de acotar la búsqueda por área geográfica, actividad económica, nombre,clave del establecimiento y estrato.\n",
    "* **Cuantificar**. Realiza un conteo de todos los establecimientos con la opción de acotar la búsqueda por área geográfica, actividad económica y estrato.\n",
    "\n",
    "La documentación completa puede encontrarse en el siguiente [enlace](https://www.inegi.org.mx/servicios/api_denue.html)."
   ]
  },
  {
   "cell_type": "markdown",
   "metadata": {
    "id": "CEYwucjVljuH"
   },
   "source": [
    "## 1. Token de Autenticación\n",
    "\n",
    "El Token es un número único que permite hacer consultas. Este permite identificar a los usuarios y la cantidad de consultas realizadas. Para obtenerlo accede a la página de documentación en la pestaña \"Guía para desarrolladores\". En cada uno de los métodos se tiene el enlace para registrarse en la descripción del parámetro `token`.\n",
    "\n",
    "![Figure 1](https://miro.medium.com/max/700/1*KEh7ODpDdculfXK2x4w6pw.png)\n",
    "\n",
    "Una vez que te has registrado, revisa tu correo para identificar tu token."
   ]
  },
  {
   "cell_type": "code",
   "execution_count": 1,
   "metadata": {
    "id": "GF7JSUPnmoEO"
   },
   "outputs": [],
   "source": [
    "import requests\n",
    "import pandas as pd"
   ]
  },
  {
   "cell_type": "code",
   "execution_count": 2,
   "metadata": {
    "id": "ODuwik4vmeUe"
   },
   "outputs": [],
   "source": [
    "import os\n",
    "from dotenv import load_dotenv\n",
    "\n",
    "# Cargar variables de entorno desde el archivo .env en la raíz del proyecto\n",
    "load_dotenv()\n",
    "token = os.getenv(\"DENUE_TOKEN\")"
   ]
  },
  {
   "cell_type": "markdown",
   "metadata": {
    "id": "6cuTPqEdmCQv"
   },
   "source": [
    "## 2. BuscarEntidad\n",
    "\n",
    "El método ``BuscarEntidad` permite realizar una consulta de todos los establecimientos de una entidad federativa. De acuerdo a la documentación, sus parámetros son los siguientes:\n",
    "\n",
    "\n",
    "* **Condición**. Palabra(s) a buscar dentro del nombre del establecimiento, razón social, calle, colonia, clase de la actividad económica, entidad federativa, municipio y localidad. Para buscar todos los establecimientos se deberá ingresar la palabra \"todos\".\n",
    "* **Entidad federativa**. Clave de dos dígitos de la entidad federativa (01 a 32). Para incluir todas las entidades se especifica 00.\n",
    "* **Registro inicial**. Número de registro a partir del cuál se mostrarán los resultados de la búsqueda.\n",
    "* **Registro final**. Número de registro final que se mostrará en los resultados de la búsqueda.\n",
    "* **Token**. Número único que permite hacer consultas, el cual se puede obtener al registrarse aquí\n",
    "\n",
    "De acuerdo a la documentación parar localizar los restaurantes de Chiapas (Entidad 7, [Documentación](https://www.google.com/url?sa=t&rct=j&q=&esrc=s&source=web&cd=&ved=2ahUKEwiw3_Kt6qD6AhW1TjABHR-iCbEQFnoECAIQAw&url=https%3A%2F%2Fwww.inegi.org.mx%2Frnm%2Findex.php%2Fcatalog%2F209%2Fdownload%2F6075&usg=AOvVaw2ddXCn_6INr2ZIYFfTZjuA)) del Registro 1 al 100 se emplearía la siguiente URL:\n",
    "\n",
    "`https://www.inegi.org.mx/app/api/denue/v1/consulta/BuscarEntidad/restaurantes/7/1/100/[Aquí va tu token]`"
   ]
  },
  {
   "cell_type": "code",
   "execution_count": 34,
   "metadata": {
    "colab": {
     "base_uri": "https://localhost:8080/",
     "height": 35
    },
    "executionInfo": {
     "elapsed": 146,
     "status": "ok",
     "timestamp": 1663618971407,
     "user": {
      "displayName": "Gonzalo G. Peraza Mues",
      "userId": "05117844317547842340"
     },
     "user_tz": 300
    },
    "id": "o2lD02dOo4Dn",
    "outputId": "b12ab907-9efc-49ad-c08c-f325b41a3ea9"
   },
   "outputs": [],
   "source": [
    "# URL\n",
    "url = f\"https://www.inegi.org.mx/app/api/denue/v1/consulta/BuscarEntidad/restaurantes/07/1/100/{token}\""
   ]
  },
  {
   "cell_type": "code",
   "execution_count": 15,
   "metadata": {
    "id": "FeE1iAwxo92Z"
   },
   "outputs": [],
   "source": [
    "# Petición de Datos\n",
    "try:\n",
    "    response = requests.get(url)\n",
    "    response.raise_for_status()\n",
    "except requests.exceptions.RequestException as e:\n",
    "    print(f\"Error al hacer la petición: {e}, {response.text}\")\n",
    "    response = None"
   ]
  },
  {
   "cell_type": "code",
   "execution_count": 16,
   "metadata": {
    "id": "CV090i99pEV8"
   },
   "outputs": [],
   "source": [
    "# Datos\n",
    "data_json = response.json()"
   ]
  },
  {
   "cell_type": "code",
   "execution_count": 17,
   "metadata": {
    "id": "rUMeHT4ppEaM"
   },
   "outputs": [],
   "source": [
    "# DataFrame\n",
    "data_dataframe =  pd.DataFrame(data_json)"
   ]
  },
  {
   "cell_type": "code",
   "execution_count": 18,
   "metadata": {
    "colab": {
     "base_uri": "https://localhost:8080/",
     "height": 664
    },
    "executionInfo": {
     "elapsed": 157,
     "status": "ok",
     "timestamp": 1663619004328,
     "user": {
      "displayName": "Gonzalo G. Peraza Mues",
      "userId": "05117844317547842340"
     },
     "user_tz": 300
    },
    "id": "cdOoZPKOpEfs",
    "outputId": "0197f1e3-a51a-484e-8584-add9d7dde1e1"
   },
   "outputs": [
    {
     "data": {
      "text/html": [
       "<div>\n",
       "<style scoped>\n",
       "    .dataframe tbody tr th:only-of-type {\n",
       "        vertical-align: middle;\n",
       "    }\n",
       "\n",
       "    .dataframe tbody tr th {\n",
       "        vertical-align: top;\n",
       "    }\n",
       "\n",
       "    .dataframe thead th {\n",
       "        text-align: right;\n",
       "    }\n",
       "</style>\n",
       "<table border=\"1\" class=\"dataframe\">\n",
       "  <thead>\n",
       "    <tr style=\"text-align: right;\">\n",
       "      <th></th>\n",
       "      <th>CLEE</th>\n",
       "      <th>Id</th>\n",
       "      <th>Nombre</th>\n",
       "      <th>Razon_social</th>\n",
       "      <th>Clase_actividad</th>\n",
       "      <th>Estrato</th>\n",
       "      <th>Tipo_vialidad</th>\n",
       "      <th>Calle</th>\n",
       "      <th>Num_Exterior</th>\n",
       "      <th>Num_Interior</th>\n",
       "      <th>...</th>\n",
       "      <th>Ubicacion</th>\n",
       "      <th>Telefono</th>\n",
       "      <th>Correo_e</th>\n",
       "      <th>Sitio_internet</th>\n",
       "      <th>Tipo</th>\n",
       "      <th>Longitud</th>\n",
       "      <th>Latitud</th>\n",
       "      <th>tipo_corredor_industrial</th>\n",
       "      <th>nom_corredor_industrial</th>\n",
       "      <th>numero_local</th>\n",
       "    </tr>\n",
       "  </thead>\n",
       "  <tbody>\n",
       "    <tr>\n",
       "      <th>0</th>\n",
       "      <td>07052722513000691000000000S9</td>\n",
       "      <td>8192251</td>\n",
       "      <td>BODEGA AUXILIAR SIN NOMBRE</td>\n",
       "      <td></td>\n",
       "      <td>Restaurantes con servicio de preparación de an...</td>\n",
       "      <td>0 a 5 personas</td>\n",
       "      <td>CALLE</td>\n",
       "      <td>PRIMERA NORTE ORIENTE</td>\n",
       "      <td>0</td>\n",
       "      <td></td>\n",
       "      <td>...</td>\n",
       "      <td>LAS MARGARITAS, Las Margaritas, CHIAPAS</td>\n",
       "      <td></td>\n",
       "      <td></td>\n",
       "      <td></td>\n",
       "      <td>Fijo</td>\n",
       "      <td>-91.98168530</td>\n",
       "      <td>16.31766098</td>\n",
       "      <td>MERCADO PUBLICO</td>\n",
       "      <td>JUAN SABINES</td>\n",
       "      <td>SN</td>\n",
       "    </tr>\n",
       "    <tr>\n",
       "      <th>1</th>\n",
       "      <td>07052722513000461000000000S7</td>\n",
       "      <td>7062064</td>\n",
       "      <td>COCINA PARA LA PREPARACION DE ALIMENTOS</td>\n",
       "      <td></td>\n",
       "      <td>Restaurantes con servicio de preparación de an...</td>\n",
       "      <td>0 a 5 personas</td>\n",
       "      <td>CALLE</td>\n",
       "      <td>PRIMERA NORTE ORIENTE</td>\n",
       "      <td>0</td>\n",
       "      <td></td>\n",
       "      <td>...</td>\n",
       "      <td>LAS MARGARITAS, Las Margaritas, CHIAPAS</td>\n",
       "      <td></td>\n",
       "      <td></td>\n",
       "      <td></td>\n",
       "      <td>Fijo</td>\n",
       "      <td>-91.98168530</td>\n",
       "      <td>16.31766098</td>\n",
       "      <td>MERCADO PUBLICO</td>\n",
       "      <td>JUAN SABINES</td>\n",
       "      <td>SN</td>\n",
       "    </tr>\n",
       "    <tr>\n",
       "      <th>2</th>\n",
       "      <td>07016722514000151000000000U7</td>\n",
       "      <td>8542220</td>\n",
       "      <td>TACOS EL CRUCERO</td>\n",
       "      <td></td>\n",
       "      <td>Restaurantes con servicio de preparación de ta...</td>\n",
       "      <td>0 a 5 personas</td>\n",
       "      <td>CALLE</td>\n",
       "      <td>NINGUNO</td>\n",
       "      <td>0</td>\n",
       "      <td></td>\n",
       "      <td>...</td>\n",
       "      <td>CATAZAJÁ, Catazajá, CHIAPAS</td>\n",
       "      <td></td>\n",
       "      <td></td>\n",
       "      <td></td>\n",
       "      <td>Semifijo</td>\n",
       "      <td>-92.01310332</td>\n",
       "      <td>17.71156357</td>\n",
       "      <td></td>\n",
       "      <td></td>\n",
       "      <td></td>\n",
       "    </tr>\n",
       "    <tr>\n",
       "      <th>3</th>\n",
       "      <td>07019722511001661000000000S4</td>\n",
       "      <td>9586066</td>\n",
       "      <td>1813 COCINA MEXICANA CONTEMPORANEA Y CAFE</td>\n",
       "      <td></td>\n",
       "      <td>Restaurantes con servicio de preparación de al...</td>\n",
       "      <td>0 a 5 personas</td>\n",
       "      <td>CALLE</td>\n",
       "      <td>CENTRAL PONIENTE</td>\n",
       "      <td>0</td>\n",
       "      <td></td>\n",
       "      <td>...</td>\n",
       "      <td>COMITÁN DE DOMÍNGUEZ, Comitán de Domínguez, CH...</td>\n",
       "      <td>9633071691</td>\n",
       "      <td></td>\n",
       "      <td></td>\n",
       "      <td>Fijo</td>\n",
       "      <td>-92.13801239</td>\n",
       "      <td>16.25126245</td>\n",
       "      <td></td>\n",
       "      <td></td>\n",
       "      <td></td>\n",
       "    </tr>\n",
       "    <tr>\n",
       "      <th>4</th>\n",
       "      <td>07019722511001083000000000U1</td>\n",
       "      <td>7082791</td>\n",
       "      <td>1813 COSINA MEXICANA</td>\n",
       "      <td></td>\n",
       "      <td>Restaurantes con servicio de preparación de al...</td>\n",
       "      <td>11 a 30 personas</td>\n",
       "      <td>CALLE</td>\n",
       "      <td>NOVENA SUR ORIENTE</td>\n",
       "      <td>48</td>\n",
       "      <td>0</td>\n",
       "      <td>...</td>\n",
       "      <td>COMITÁN DE DOMÍNGUEZ, Comitán de Domínguez, CH...</td>\n",
       "      <td>9631686824</td>\n",
       "      <td></td>\n",
       "      <td></td>\n",
       "      <td>Fijo</td>\n",
       "      <td>-92.12712187</td>\n",
       "      <td>16.24766749</td>\n",
       "      <td></td>\n",
       "      <td></td>\n",
       "      <td></td>\n",
       "    </tr>\n",
       "  </tbody>\n",
       "</table>\n",
       "<p>5 rows × 22 columns</p>\n",
       "</div>"
      ],
      "text/plain": [
       "                           CLEE       Id  \\\n",
       "0  07052722513000691000000000S9  8192251   \n",
       "1  07052722513000461000000000S7  7062064   \n",
       "2  07016722514000151000000000U7  8542220   \n",
       "3  07019722511001661000000000S4  9586066   \n",
       "4  07019722511001083000000000U1  7082791   \n",
       "\n",
       "                                      Nombre Razon_social  \\\n",
       "0                 BODEGA AUXILIAR SIN NOMBRE                \n",
       "1    COCINA PARA LA PREPARACION DE ALIMENTOS                \n",
       "2                           TACOS EL CRUCERO                \n",
       "3  1813 COCINA MEXICANA CONTEMPORANEA Y CAFE                \n",
       "4                       1813 COSINA MEXICANA                \n",
       "\n",
       "                                     Clase_actividad           Estrato  \\\n",
       "0  Restaurantes con servicio de preparación de an...    0 a 5 personas   \n",
       "1  Restaurantes con servicio de preparación de an...    0 a 5 personas   \n",
       "2  Restaurantes con servicio de preparación de ta...    0 a 5 personas   \n",
       "3  Restaurantes con servicio de preparación de al...    0 a 5 personas   \n",
       "4  Restaurantes con servicio de preparación de al...  11 a 30 personas   \n",
       "\n",
       "  Tipo_vialidad                  Calle Num_Exterior Num_Interior  ...  \\\n",
       "0         CALLE  PRIMERA NORTE ORIENTE            0               ...   \n",
       "1         CALLE  PRIMERA NORTE ORIENTE            0               ...   \n",
       "2         CALLE                NINGUNO            0               ...   \n",
       "3         CALLE       CENTRAL PONIENTE            0               ...   \n",
       "4         CALLE     NOVENA SUR ORIENTE           48            0  ...   \n",
       "\n",
       "                                           Ubicacion    Telefono Correo_e  \\\n",
       "0            LAS MARGARITAS, Las Margaritas, CHIAPAS                        \n",
       "1            LAS MARGARITAS, Las Margaritas, CHIAPAS                        \n",
       "2                        CATAZAJÁ, Catazajá, CHIAPAS                        \n",
       "3  COMITÁN DE DOMÍNGUEZ, Comitán de Domínguez, CH...  9633071691            \n",
       "4  COMITÁN DE DOMÍNGUEZ, Comitán de Domínguez, CH...  9631686824            \n",
       "\n",
       "  Sitio_internet      Tipo      Longitud      Latitud  \\\n",
       "0                     Fijo  -91.98168530  16.31766098   \n",
       "1                     Fijo  -91.98168530  16.31766098   \n",
       "2                 Semifijo  -92.01310332  17.71156357   \n",
       "3                     Fijo  -92.13801239  16.25126245   \n",
       "4                     Fijo  -92.12712187  16.24766749   \n",
       "\n",
       "  tipo_corredor_industrial nom_corredor_industrial numero_local  \n",
       "0          MERCADO PUBLICO            JUAN SABINES           SN  \n",
       "1          MERCADO PUBLICO            JUAN SABINES           SN  \n",
       "2                                                                \n",
       "3                                                                \n",
       "4                                                                \n",
       "\n",
       "[5 rows x 22 columns]"
      ]
     },
     "execution_count": 18,
     "metadata": {},
     "output_type": "execute_result"
    }
   ],
   "source": [
    "# Encabezado\n",
    "data_dataframe.head()"
   ]
  },
  {
   "cell_type": "code",
   "execution_count": 19,
   "metadata": {
    "colab": {
     "base_uri": "https://localhost:8080/"
    },
    "executionInfo": {
     "elapsed": 161,
     "status": "ok",
     "timestamp": 1663619196074,
     "user": {
      "displayName": "Gonzalo G. Peraza Mues",
      "userId": "05117844317547842340"
     },
     "user_tz": 300
    },
    "id": "Lh0mmy1RpEmJ",
    "outputId": "3d4ab509-19f8-4c91-c255-15d7a0bef5b2"
   },
   "outputs": [
    {
     "data": {
      "text/plain": [
       "(100, 22)"
      ]
     },
     "execution_count": 19,
     "metadata": {},
     "output_type": "execute_result"
    }
   ],
   "source": [
    "# Tamaño\n",
    "data_dataframe.shape"
   ]
  },
  {
   "cell_type": "markdown",
   "metadata": {
    "id": "z5O72rempgyH"
   },
   "source": [
    "Ahora tratemos de generalizar la petición"
   ]
  },
  {
   "cell_type": "code",
   "execution_count": 20,
   "metadata": {
    "id": "j0EB4zl1jwX2"
   },
   "outputs": [],
   "source": [
    "condicion        = \"todos\"  # Si escribimos \"todos\" nos deolverá todos los tipos de unidades económicas\n",
    "entidad          = \"07\"        #Chiapas es la Entidad 7\n",
    "registro_inicial = 1\n",
    "registro_final   = 100000000"
   ]
  },
  {
   "cell_type": "code",
   "execution_count": 35,
   "metadata": {
    "colab": {
     "base_uri": "https://localhost:8080/",
     "height": 35
    },
    "executionInfo": {
     "elapsed": 152,
     "status": "ok",
     "timestamp": 1663619245824,
     "user": {
      "displayName": "Gonzalo G. Peraza Mues",
      "userId": "05117844317547842340"
     },
     "user_tz": 300
    },
    "id": "j1HAZvt2onMM",
    "outputId": "61649a6a-00a6-4f02-bb1d-7734e5476222"
   },
   "outputs": [],
   "source": [
    "# url\n",
    "url = f'https://www.inegi.org.mx/app/api/denue/v1/consulta/BuscarEntidad/{condicion}/{entidad}/{registro_inicial}/{registro_final}/{token}'\n"
   ]
  },
  {
   "cell_type": "code",
   "execution_count": 22,
   "metadata": {
    "id": "Y0iZb48wog7h"
   },
   "outputs": [],
   "source": [
    "# Petición\n",
    "response = requests.get(url)\n",
    "# Datos\n",
    "data_json = response.json()\n",
    "# DataFrame\n",
    "data_dataframe = pd.DataFrame(data_json)"
   ]
  },
  {
   "cell_type": "code",
   "execution_count": 23,
   "metadata": {
    "colab": {
     "base_uri": "https://localhost:8080/",
     "height": 612
    },
    "executionInfo": {
     "elapsed": 170,
     "status": "ok",
     "timestamp": 1663619380676,
     "user": {
      "displayName": "Gonzalo G. Peraza Mues",
      "userId": "05117844317547842340"
     },
     "user_tz": 300
    },
    "id": "QUZ98fVAp-tU",
    "outputId": "f08ab2e0-bee9-4cc3-e0bc-a3b0624a0b1c"
   },
   "outputs": [
    {
     "data": {
      "text/html": [
       "<div>\n",
       "<style scoped>\n",
       "    .dataframe tbody tr th:only-of-type {\n",
       "        vertical-align: middle;\n",
       "    }\n",
       "\n",
       "    .dataframe tbody tr th {\n",
       "        vertical-align: top;\n",
       "    }\n",
       "\n",
       "    .dataframe thead th {\n",
       "        text-align: right;\n",
       "    }\n",
       "</style>\n",
       "<table border=\"1\" class=\"dataframe\">\n",
       "  <thead>\n",
       "    <tr style=\"text-align: right;\">\n",
       "      <th></th>\n",
       "      <th>CLEE</th>\n",
       "      <th>Id</th>\n",
       "      <th>Nombre</th>\n",
       "      <th>Razon_social</th>\n",
       "      <th>Clase_actividad</th>\n",
       "      <th>Estrato</th>\n",
       "      <th>Tipo_vialidad</th>\n",
       "      <th>Calle</th>\n",
       "      <th>Num_Exterior</th>\n",
       "      <th>Num_Interior</th>\n",
       "      <th>...</th>\n",
       "      <th>Ubicacion</th>\n",
       "      <th>Telefono</th>\n",
       "      <th>Correo_e</th>\n",
       "      <th>Sitio_internet</th>\n",
       "      <th>Tipo</th>\n",
       "      <th>Longitud</th>\n",
       "      <th>Latitud</th>\n",
       "      <th>tipo_corredor_industrial</th>\n",
       "      <th>nom_corredor_industrial</th>\n",
       "      <th>numero_local</th>\n",
       "    </tr>\n",
       "  </thead>\n",
       "  <tbody>\n",
       "    <tr>\n",
       "      <th>0</th>\n",
       "      <td>07115461110000771000000000U4</td>\n",
       "      <td>8230883</td>\n",
       "      <td>ABARROTES SIN NOMBRE</td>\n",
       "      <td></td>\n",
       "      <td>Comercio al por menor en tiendas de abarrotes,...</td>\n",
       "      <td>0 a 5 personas</td>\n",
       "      <td>CALLE</td>\n",
       "      <td>NINGUNO</td>\n",
       "      <td>0</td>\n",
       "      <td></td>\n",
       "      <td>...</td>\n",
       "      <td>MARAVILLA TENEJAPA, Maravilla Tenejapa, CHIAPAS</td>\n",
       "      <td></td>\n",
       "      <td></td>\n",
       "      <td></td>\n",
       "      <td>Fijo</td>\n",
       "      <td>-91.29183636</td>\n",
       "      <td>16.14114769</td>\n",
       "      <td>MERCADO PUBLICO</td>\n",
       "      <td>2 DE MARZO</td>\n",
       "      <td>SN</td>\n",
       "    </tr>\n",
       "    <tr>\n",
       "      <th>1</th>\n",
       "      <td>07009461110007091000000000U5</td>\n",
       "      <td>11031285</td>\n",
       "      <td>ABARROTES SIN NOMBRE</td>\n",
       "      <td></td>\n",
       "      <td>Comercio al por menor en tiendas de abarrotes,...</td>\n",
       "      <td>0 a 5 personas</td>\n",
       "      <td>CALLE</td>\n",
       "      <td>CENTRAL SUR</td>\n",
       "      <td>0</td>\n",
       "      <td></td>\n",
       "      <td>...</td>\n",
       "      <td>ARRIAGA, Arriaga, CHIAPAS</td>\n",
       "      <td></td>\n",
       "      <td></td>\n",
       "      <td></td>\n",
       "      <td>Fijo</td>\n",
       "      <td>-93.90056845</td>\n",
       "      <td>16.23436544</td>\n",
       "      <td>MERCADO PUBLICO</td>\n",
       "      <td>MERCADO PUBLICO MUNICIPAL BELISARIO DOMINGUEZ</td>\n",
       "      <td>SN</td>\n",
       "    </tr>\n",
       "    <tr>\n",
       "      <th>2</th>\n",
       "      <td>07101722515008791000000000U9</td>\n",
       "      <td>11734650</td>\n",
       "      <td>ANTOJITOS SIN NOMBRE</td>\n",
       "      <td></td>\n",
       "      <td>Cafeterías, fuentes de sodas, neverías, refres...</td>\n",
       "      <td>0 a 5 personas</td>\n",
       "      <td>AVENIDA</td>\n",
       "      <td>NOVENA SUR ORIENTE</td>\n",
       "      <td>0</td>\n",
       "      <td></td>\n",
       "      <td>...</td>\n",
       "      <td>TUXTLA GUTIÉRREZ, Tuxtla Gutiérrez, CHIAPAS</td>\n",
       "      <td></td>\n",
       "      <td></td>\n",
       "      <td></td>\n",
       "      <td>Fijo</td>\n",
       "      <td>-93.10101671</td>\n",
       "      <td>16.74211193</td>\n",
       "      <td></td>\n",
       "      <td></td>\n",
       "      <td></td>\n",
       "    </tr>\n",
       "    <tr>\n",
       "      <th>3</th>\n",
       "      <td>07009465913000031000000000U1</td>\n",
       "      <td>7534996</td>\n",
       "      <td>ARITUCULOS RELIGIOSOS SIN NOMBRE</td>\n",
       "      <td></td>\n",
       "      <td>Comercio al por menor de artículos religiosos</td>\n",
       "      <td>0 a 5 personas</td>\n",
       "      <td>CALLE</td>\n",
       "      <td>CENTRAL SUR</td>\n",
       "      <td>0</td>\n",
       "      <td>77</td>\n",
       "      <td>...</td>\n",
       "      <td>ARRIAGA, Arriaga, CHIAPAS</td>\n",
       "      <td></td>\n",
       "      <td></td>\n",
       "      <td></td>\n",
       "      <td>Fijo</td>\n",
       "      <td>-93.90056845</td>\n",
       "      <td>16.23436544</td>\n",
       "      <td>MERCADO PUBLICO</td>\n",
       "      <td>MERCADO PUBLICO MUNICIPAL BELISARIO DOMINGUEZ</td>\n",
       "      <td>77</td>\n",
       "    </tr>\n",
       "    <tr>\n",
       "      <th>4</th>\n",
       "      <td>07101466212004211000000000M6</td>\n",
       "      <td>8154520</td>\n",
       "      <td>AT&amp;T DISTRIBUIDOR AUTORIZADO VENTA DE CELULARES</td>\n",
       "      <td></td>\n",
       "      <td>Comercio al por menor de teléfonos y otros apa...</td>\n",
       "      <td>0 a 5 personas</td>\n",
       "      <td>AVENIDA</td>\n",
       "      <td>CENTRAL ORIENTE</td>\n",
       "      <td>1034</td>\n",
       "      <td>0</td>\n",
       "      <td>...</td>\n",
       "      <td>TUXTLA GUTIÉRREZ, Tuxtla Gutiérrez, CHIAPAS</td>\n",
       "      <td></td>\n",
       "      <td></td>\n",
       "      <td></td>\n",
       "      <td>Fijo</td>\n",
       "      <td>-93.10817342</td>\n",
       "      <td>16.75231258</td>\n",
       "      <td></td>\n",
       "      <td></td>\n",
       "      <td></td>\n",
       "    </tr>\n",
       "  </tbody>\n",
       "</table>\n",
       "<p>5 rows × 22 columns</p>\n",
       "</div>"
      ],
      "text/plain": [
       "                           CLEE        Id  \\\n",
       "0  07115461110000771000000000U4   8230883   \n",
       "1  07009461110007091000000000U5  11031285   \n",
       "2  07101722515008791000000000U9  11734650   \n",
       "3  07009465913000031000000000U1   7534996   \n",
       "4  07101466212004211000000000M6   8154520   \n",
       "\n",
       "                                             Nombre Razon_social  \\\n",
       "0                              ABARROTES SIN NOMBRE                \n",
       "1                              ABARROTES SIN NOMBRE                \n",
       "2                              ANTOJITOS SIN NOMBRE                \n",
       "3                  ARITUCULOS RELIGIOSOS SIN NOMBRE                \n",
       "4   AT&T DISTRIBUIDOR AUTORIZADO VENTA DE CELULARES                \n",
       "\n",
       "                                     Clase_actividad         Estrato  \\\n",
       "0  Comercio al por menor en tiendas de abarrotes,...  0 a 5 personas   \n",
       "1  Comercio al por menor en tiendas de abarrotes,...  0 a 5 personas   \n",
       "2  Cafeterías, fuentes de sodas, neverías, refres...  0 a 5 personas   \n",
       "3      Comercio al por menor de artículos religiosos  0 a 5 personas   \n",
       "4  Comercio al por menor de teléfonos y otros apa...  0 a 5 personas   \n",
       "\n",
       "  Tipo_vialidad               Calle Num_Exterior Num_Interior  ...  \\\n",
       "0         CALLE             NINGUNO            0               ...   \n",
       "1         CALLE         CENTRAL SUR            0               ...   \n",
       "2       AVENIDA  NOVENA SUR ORIENTE            0               ...   \n",
       "3         CALLE         CENTRAL SUR            0           77  ...   \n",
       "4       AVENIDA     CENTRAL ORIENTE         1034            0  ...   \n",
       "\n",
       "                                         Ubicacion Telefono Correo_e  \\\n",
       "0  MARAVILLA TENEJAPA, Maravilla Tenejapa, CHIAPAS                     \n",
       "1                        ARRIAGA, Arriaga, CHIAPAS                     \n",
       "2      TUXTLA GUTIÉRREZ, Tuxtla Gutiérrez, CHIAPAS                     \n",
       "3                        ARRIAGA, Arriaga, CHIAPAS                     \n",
       "4      TUXTLA GUTIÉRREZ, Tuxtla Gutiérrez, CHIAPAS                     \n",
       "\n",
       "  Sitio_internet  Tipo      Longitud      Latitud tipo_corredor_industrial  \\\n",
       "0                 Fijo  -91.29183636  16.14114769          MERCADO PUBLICO   \n",
       "1                 Fijo  -93.90056845  16.23436544          MERCADO PUBLICO   \n",
       "2                 Fijo  -93.10101671  16.74211193                            \n",
       "3                 Fijo  -93.90056845  16.23436544          MERCADO PUBLICO   \n",
       "4                 Fijo  -93.10817342  16.75231258                            \n",
       "\n",
       "                         nom_corredor_industrial numero_local  \n",
       "0                                     2 DE MARZO           SN  \n",
       "1  MERCADO PUBLICO MUNICIPAL BELISARIO DOMINGUEZ           SN  \n",
       "2                                                              \n",
       "3  MERCADO PUBLICO MUNICIPAL BELISARIO DOMINGUEZ           77  \n",
       "4                                                              \n",
       "\n",
       "[5 rows x 22 columns]"
      ]
     },
     "execution_count": 23,
     "metadata": {},
     "output_type": "execute_result"
    }
   ],
   "source": [
    "data_dataframe.head()"
   ]
  },
  {
   "cell_type": "code",
   "execution_count": 24,
   "metadata": {
    "colab": {
     "base_uri": "https://localhost:8080/"
    },
    "executionInfo": {
     "elapsed": 132,
     "status": "ok",
     "timestamp": 1663619383042,
     "user": {
      "displayName": "Gonzalo G. Peraza Mues",
      "userId": "05117844317547842340"
     },
     "user_tz": 300
    },
    "id": "fDiMWbO-qdlR",
    "outputId": "54752a61-fd90-466d-cd42-0e7879b1dce2"
   },
   "outputs": [
    {
     "data": {
      "text/plain": [
       "(249308, 22)"
      ]
     },
     "execution_count": 24,
     "metadata": {},
     "output_type": "execute_result"
    }
   ],
   "source": [
    "data_dataframe.shape"
   ]
  },
  {
   "cell_type": "markdown",
   "metadata": {
    "id": "49GnUCs7rzvV"
   },
   "source": [
    "1. Crea una función `BuscarEntidad()` en Python, que reciba los parámetros de entrada, consulte la API anteriormente descrita y devuelva un dataframe con los resultados."
   ]
  },
  {
   "cell_type": "code",
   "execution_count": 25,
   "metadata": {
    "id": "D1i6cMnXrw1I"
   },
   "outputs": [],
   "source": [
    "def BuscarEntida(condicion, entidad, registro_inicial, registro_final, token):\n",
    "    url = f'https://www.inegi.org.mx/app/api/denue/v1/consulta/BuscarEntidad/{condicion}/{entidad}/{registro_inicial}/{registro_final}/{token}'\n",
    "    import requests\n",
    "    import pandas as pd\n",
    "    import os\n",
    "    from dotenv import load_dotenv\n",
    "\n",
    "    # Cargar variables de entorno desde el archivo .env en la raíz del proyecto\n",
    "    load_dotenv()\n",
    "    token = os.getenv(\"DENUE_TOKEN\")\n",
    "\n",
    "    try:\n",
    "        response = requests.get(url)\n",
    "        response.raise_for_status()\n",
    "    except requests.exceptions.RequestException as e:\n",
    "        print(f\"Error al hacer la petición: {e}, {response.text}\")\n",
    "        response = None\n",
    "        \n",
    "    if response:\n",
    "        data_json = response.json()\n",
    "        data_frame = pd.DataFrame(data_json)\n",
    "        return data_frame\n",
    "    else:\n",
    "        return None"
   ]
  },
  {
   "cell_type": "code",
   "execution_count": 27,
   "metadata": {
    "colab": {
     "base_uri": "https://localhost:8080/",
     "height": 35
    },
    "executionInfo": {
     "elapsed": 9,
     "status": "ok",
     "timestamp": 1663620179501,
     "user": {
      "displayName": "Gonzalo G. Peraza Mues",
      "userId": "05117844317547842340"
     },
     "user_tz": 300
    },
    "id": "oGxZBiche3Li",
    "outputId": "b036918b-5234-405b-b31d-343e85fb8ad1"
   },
   "outputs": [],
   "source": [
    "data_frame = BuscarEntida('todos', '07', 1, 100, token)"
   ]
  },
  {
   "cell_type": "markdown",
   "metadata": {
    "id": "GAcsUWZesFz2"
   },
   "source": [
    "2. Considerando `data_dataframe`, ¿cuales son las `Clase_actividad` con mayor registros?"
   ]
  },
  {
   "cell_type": "code",
   "execution_count": 28,
   "metadata": {
    "id": "PyI2yxUEsTeZ"
   },
   "outputs": [
    {
     "data": {
      "text/plain": [
       "Clase_actividad\n",
       "Comercio al por menor en tiendas de abarrotes, ultramarinos y misceláneas    40631\n",
       "Comercio al por menor de ropa, excepto de bebé y lencería                     8834\n",
       "Salones y clínicas de belleza y peluquerías                                   8246\n",
       "Asociaciones y organizaciones religiosas                                      7142\n",
       "Restaurantes con servicio de preparación de antojitos                         6268\n",
       "                                                                             ...  \n",
       "Fabricación de equipo y aparatos de distribución de energía eléctrica            1\n",
       "Fabricación de pigmentos y colorantes sintéticos                                 1\n",
       "Fabricación de telas no tejidas (comprimidas)                                    1\n",
       "Preparación e hilado de fibras blandas naturales                                 1\n",
       "Sitios históricos                                                                1\n",
       "Name: count, Length: 777, dtype: int64"
      ]
     },
     "execution_count": 28,
     "metadata": {},
     "output_type": "execute_result"
    }
   ],
   "source": [
    "data_dataframe['Clase_actividad'].value_counts()"
   ]
  },
  {
   "cell_type": "markdown",
   "metadata": {
    "id": "ScidxKzesWyW"
   },
   "source": [
    "3. Considerando `data_dataframe`, ¿cuales son los `Estrato` con mayor registros?"
   ]
  },
  {
   "cell_type": "code",
   "execution_count": 29,
   "metadata": {
    "id": "RPWwZXCnsT_Z"
   },
   "outputs": [
    {
     "data": {
      "text/plain": [
       "Estrato\n",
       "0 a 5 personas        229499\n",
       "6 a 10 personas        11288\n",
       "11 a 30 personas        6165\n",
       "31 a 50 personas        1128\n",
       "51 a 100 personas        694\n",
       "101 a 250 personas       382\n",
       "251 y más personas       152\n",
       "Name: count, dtype: int64"
      ]
     },
     "execution_count": 29,
     "metadata": {},
     "output_type": "execute_result"
    }
   ],
   "source": [
    "data_dataframe['Estrato'].value_counts()"
   ]
  },
  {
   "cell_type": "markdown",
   "metadata": {
    "id": "ocBstrSdslpF"
   },
   "source": [
    "4. Lee acerca del método `Buscar` en la documentación. Realiza una consulta de todos los establecimientos que cumplan las condiciones definidas. Crea una función en Python que tenga como parámetros, los elementos necesarios para consultar la API, realice la consulta y devuelva un dataframe con los resultados. Ubica los establecimientos a 100 m del Parque Central de Tuxtla Gutiérrez."
   ]
  },
  {
   "cell_type": "code",
   "execution_count": 30,
   "metadata": {
    "id": "Y4MiRQ7psdFe"
   },
   "outputs": [],
   "source": [
    "def Buscar(condicion, coordenadas, distancia, token):\n",
    "    import requests\n",
    "    import pandas as pd\n",
    "    import os\n",
    "    from dotenv import load_dotenv\n",
    "\n",
    "    # Cargar variables de entorno desde el archivo .env en la raíz del proyecto\n",
    "    load_dotenv()\n",
    "    token = os.getenv(\"DENUE_TOKEN\")\n",
    "\n",
    "    url = f'https://www.inegi.org.mx/app/api/denue/v1/consulta/Buscar/{condicion}/{coordenadas}/{distancia}/{token}'\n",
    "    \n",
    "    try:\n",
    "        response = requests.get(url)\n",
    "        response.raise_for_status()\n",
    "    except requests.exceptions.RequestException as e:\n",
    "        print(f\"Error al hacer la petición: {e}, {response.text}\")\n",
    "\n",
    "    if response:\n",
    "            data_json = response.json()\n",
    "            data_frame = pd.DataFrame(data_json)\n",
    "            return data_frame\n",
    "    else:\n",
    "            return None\n"
   ]
  },
  {
   "cell_type": "code",
   "execution_count": 31,
   "metadata": {},
   "outputs": [],
   "source": [
    "buscar_dataframe = Buscar('todos', '16.754125395899916, -93.11568123518921', 100, token)"
   ]
  },
  {
   "cell_type": "code",
   "execution_count": 32,
   "metadata": {},
   "outputs": [
    {
     "data": {
      "text/html": [
       "<div>\n",
       "<style scoped>\n",
       "    .dataframe tbody tr th:only-of-type {\n",
       "        vertical-align: middle;\n",
       "    }\n",
       "\n",
       "    .dataframe tbody tr th {\n",
       "        vertical-align: top;\n",
       "    }\n",
       "\n",
       "    .dataframe thead th {\n",
       "        text-align: right;\n",
       "    }\n",
       "</style>\n",
       "<table border=\"1\" class=\"dataframe\">\n",
       "  <thead>\n",
       "    <tr style=\"text-align: right;\">\n",
       "      <th></th>\n",
       "      <th>CLEE</th>\n",
       "      <th>Id</th>\n",
       "      <th>Nombre</th>\n",
       "      <th>Razon_social</th>\n",
       "      <th>Clase_actividad</th>\n",
       "      <th>Estrato</th>\n",
       "      <th>Tipo_vialidad</th>\n",
       "      <th>Calle</th>\n",
       "      <th>Num_Exterior</th>\n",
       "      <th>Num_Interior</th>\n",
       "      <th>...</th>\n",
       "      <th>Ubicacion</th>\n",
       "      <th>Telefono</th>\n",
       "      <th>Correo_e</th>\n",
       "      <th>Sitio_internet</th>\n",
       "      <th>Tipo</th>\n",
       "      <th>Longitud</th>\n",
       "      <th>Latitud</th>\n",
       "      <th>CentroComercial</th>\n",
       "      <th>TipoCentroComercial</th>\n",
       "      <th>NumLocal</th>\n",
       "    </tr>\n",
       "  </thead>\n",
       "  <tbody>\n",
       "    <tr>\n",
       "      <th>0</th>\n",
       "      <td>07101522110004171000000000U0</td>\n",
       "      <td>6890475</td>\n",
       "      <td>BBVA BANCOMER</td>\n",
       "      <td>BANCO BBVA BANCOMER</td>\n",
       "      <td>Banca múltiple</td>\n",
       "      <td>0 a 5 personas</td>\n",
       "      <td>CALLE</td>\n",
       "      <td>9 SUR SN</td>\n",
       "      <td></td>\n",
       "      <td></td>\n",
       "      <td>...</td>\n",
       "      <td>TUXTLA GUTIÉRREZ, Tuxtla Gutiérrez, CHIAPAS</td>\n",
       "      <td></td>\n",
       "      <td></td>\n",
       "      <td></td>\n",
       "      <td>Fijo</td>\n",
       "      <td>-93.11538300</td>\n",
       "      <td>16.75420000</td>\n",
       "      <td></td>\n",
       "      <td></td>\n",
       "      <td></td>\n",
       "    </tr>\n",
       "    <tr>\n",
       "      <th>1</th>\n",
       "      <td>07101522110002161000000000U3</td>\n",
       "      <td>6818662</td>\n",
       "      <td>CAJERO AUTOMÁTICO BBVA BANCOMER</td>\n",
       "      <td>BANCO BBVA BANCOMER</td>\n",
       "      <td>Banca múltiple</td>\n",
       "      <td>0 a 5 personas</td>\n",
       "      <td>CALLE</td>\n",
       "      <td>CENTRAL NORTE</td>\n",
       "      <td></td>\n",
       "      <td></td>\n",
       "      <td>...</td>\n",
       "      <td>TUXTLA GUTIÉRREZ, Tuxtla Gutiérrez, CHIAPAS</td>\n",
       "      <td></td>\n",
       "      <td></td>\n",
       "      <td></td>\n",
       "      <td>Fijo</td>\n",
       "      <td>-93.11594840</td>\n",
       "      <td>16.75429180</td>\n",
       "      <td></td>\n",
       "      <td></td>\n",
       "      <td></td>\n",
       "    </tr>\n",
       "    <tr>\n",
       "      <th>2</th>\n",
       "      <td>07101522110001151001013845S5</td>\n",
       "      <td>367448</td>\n",
       "      <td>BANCO AZTECA</td>\n",
       "      <td>BANCO AZTECA INSTITUCION DE BANCA MULTIPLE SA ...</td>\n",
       "      <td>Banca múltiple</td>\n",
       "      <td>11 a 30 personas</td>\n",
       "      <td>CALLE</td>\n",
       "      <td>CENTRAL NORTE</td>\n",
       "      <td>145</td>\n",
       "      <td>0</td>\n",
       "      <td>...</td>\n",
       "      <td>TUXTLA GUTIÉRREZ, Tuxtla Gutiérrez, CHIAPAS</td>\n",
       "      <td></td>\n",
       "      <td></td>\n",
       "      <td></td>\n",
       "      <td>Fijo</td>\n",
       "      <td>-93.11605258</td>\n",
       "      <td>16.75417264</td>\n",
       "      <td></td>\n",
       "      <td></td>\n",
       "      <td></td>\n",
       "    </tr>\n",
       "    <tr>\n",
       "      <th>3</th>\n",
       "      <td>07101522110001211001013874S7</td>\n",
       "      <td>523350</td>\n",
       "      <td>HSBC SUC TUXTLA CENTRO</td>\n",
       "      <td>HSBC MEXICO INSTITUCION DE BANCA MULTIPLE GRUP...</td>\n",
       "      <td>Banca múltiple</td>\n",
       "      <td>6 a 10 personas</td>\n",
       "      <td>AVENIDA</td>\n",
       "      <td>CENTRAL NORTE</td>\n",
       "      <td>137</td>\n",
       "      <td>0</td>\n",
       "      <td>...</td>\n",
       "      <td>TUXTLA GUTIÉRREZ, Tuxtla Gutiérrez, CHIAPAS</td>\n",
       "      <td></td>\n",
       "      <td></td>\n",
       "      <td>WWW.HSBC.COM.MX</td>\n",
       "      <td>Fijo</td>\n",
       "      <td>-93.11604733</td>\n",
       "      <td>16.75420180</td>\n",
       "      <td>MULTIPLAZA ALAMEDAS</td>\n",
       "      <td>CENTRO Y PLAZA COMERCIAL</td>\n",
       "      <td>SN</td>\n",
       "    </tr>\n",
       "    <tr>\n",
       "      <th>4</th>\n",
       "      <td>07101522110003461000000000U6</td>\n",
       "      <td>6840019</td>\n",
       "      <td>CAJERO AUTOMÁTICO HSBC MEXICO</td>\n",
       "      <td>BANCO HSBC MEXICO</td>\n",
       "      <td>Banca múltiple</td>\n",
       "      <td>0 a 5 personas</td>\n",
       "      <td>CALLE</td>\n",
       "      <td>CENTRAL NORTE</td>\n",
       "      <td></td>\n",
       "      <td>137</td>\n",
       "      <td>...</td>\n",
       "      <td>TUXTLA GUTIÉRREZ, Tuxtla Gutiérrez, CHIAPAS</td>\n",
       "      <td></td>\n",
       "      <td></td>\n",
       "      <td></td>\n",
       "      <td>Fijo</td>\n",
       "      <td>-93.11604080</td>\n",
       "      <td>16.75423820</td>\n",
       "      <td></td>\n",
       "      <td></td>\n",
       "      <td></td>\n",
       "    </tr>\n",
       "  </tbody>\n",
       "</table>\n",
       "<p>5 rows × 22 columns</p>\n",
       "</div>"
      ],
      "text/plain": [
       "                           CLEE       Id                           Nombre  \\\n",
       "0  07101522110004171000000000U0  6890475                    BBVA BANCOMER   \n",
       "1  07101522110002161000000000U3  6818662  CAJERO AUTOMÁTICO BBVA BANCOMER   \n",
       "2  07101522110001151001013845S5   367448                     BANCO AZTECA   \n",
       "3  07101522110001211001013874S7   523350           HSBC SUC TUXTLA CENTRO   \n",
       "4  07101522110003461000000000U6  6840019    CAJERO AUTOMÁTICO HSBC MEXICO   \n",
       "\n",
       "                                        Razon_social Clase_actividad  \\\n",
       "0                               BANCO BBVA BANCOMER   Banca múltiple   \n",
       "1                               BANCO BBVA BANCOMER   Banca múltiple   \n",
       "2  BANCO AZTECA INSTITUCION DE BANCA MULTIPLE SA ...  Banca múltiple   \n",
       "3  HSBC MEXICO INSTITUCION DE BANCA MULTIPLE GRUP...  Banca múltiple   \n",
       "4                                 BANCO HSBC MEXICO   Banca múltiple   \n",
       "\n",
       "            Estrato Tipo_vialidad          Calle Num_Exterior Num_Interior  \\\n",
       "0    0 a 5 personas         CALLE       9 SUR SN                             \n",
       "1    0 a 5 personas         CALLE  CENTRAL NORTE                             \n",
       "2  11 a 30 personas         CALLE  CENTRAL NORTE          145            0   \n",
       "3   6 a 10 personas       AVENIDA  CENTRAL NORTE          137            0   \n",
       "4    0 a 5 personas         CALLE  CENTRAL NORTE                       137   \n",
       "\n",
       "   ...                                    Ubicacion Telefono Correo_e  \\\n",
       "0  ...  TUXTLA GUTIÉRREZ, Tuxtla Gutiérrez, CHIAPAS                     \n",
       "1  ...  TUXTLA GUTIÉRREZ, Tuxtla Gutiérrez, CHIAPAS                     \n",
       "2  ...  TUXTLA GUTIÉRREZ, Tuxtla Gutiérrez, CHIAPAS                     \n",
       "3  ...  TUXTLA GUTIÉRREZ, Tuxtla Gutiérrez, CHIAPAS                     \n",
       "4  ...  TUXTLA GUTIÉRREZ, Tuxtla Gutiérrez, CHIAPAS                     \n",
       "\n",
       "    Sitio_internet  Tipo      Longitud      Latitud      CentroComercial  \\\n",
       "0                   Fijo  -93.11538300  16.75420000                        \n",
       "1                   Fijo  -93.11594840  16.75429180                        \n",
       "2                   Fijo  -93.11605258  16.75417264                        \n",
       "3  WWW.HSBC.COM.MX  Fijo  -93.11604733  16.75420180  MULTIPLAZA ALAMEDAS   \n",
       "4                   Fijo  -93.11604080  16.75423820                        \n",
       "\n",
       "        TipoCentroComercial NumLocal  \n",
       "0                                     \n",
       "1                                     \n",
       "2                                     \n",
       "3  CENTRO Y PLAZA COMERCIAL       SN  \n",
       "4                                     \n",
       "\n",
       "[5 rows x 22 columns]"
      ]
     },
     "execution_count": 32,
     "metadata": {},
     "output_type": "execute_result"
    }
   ],
   "source": [
    "buscar_dataframe.head()"
   ]
  },
  {
   "cell_type": "markdown",
   "metadata": {
    "id": "WG3MYx-kturk"
   },
   "source": [
    "5. ¿Cuáles son las `Clase_actividad` con mayor registros en la petición anterior?"
   ]
  },
  {
   "cell_type": "code",
   "execution_count": 33,
   "metadata": {
    "id": "mNRmK63b11eI"
   },
   "outputs": [
    {
     "data": {
      "text/plain": [
       "Clase_actividad\n",
       "Banca múltiple                                                                                    11\n",
       "Restaurantes con servicio de preparación de tacos y tortas                                         3\n",
       "Comercio al por menor de teléfonos y otros aparatos de comunicación                                3\n",
       "Comercio al por menor de calzado                                                                   2\n",
       "Comercio al por menor en minisupers                                                                2\n",
       "Comercio al por menor de artículos de papelería                                                    2\n",
       "Comercio al por menor de bisutería y accesorios de vestir                                          2\n",
       "Farmacias sin minisúper                                                                            2\n",
       "Comercio al por menor de otros alimentos                                                           2\n",
       "Servicios de preparación de otros alimentos para consumo inmediato                                 1\n",
       "Comercio al por menor de lentes                                                                    1\n",
       "Operadores de servicios de telecomunicaciones alámbricas                                           1\n",
       "Servicios de fotografía y videograbación                                                           1\n",
       "Restaurantes de autoservicio                                                                       1\n",
       "Notarías públicas                                                                                  1\n",
       "Comercio al por menor de cristalería, loza y utensilios de cocina                                  1\n",
       "Comercio al por menor de mobiliario, equipo y accesorios de cómputo                                1\n",
       "Asociaciones, organizaciones y cámaras de productores, comerciantes y prestadores de servicios     1\n",
       "Comercio al por menor de electrodomésticos menores y aparatos de línea blanca                      1\n",
       "Elaboración de helados y paletas                                                                   1\n",
       "Cafeterías, fuentes de sodas, neverías, refresquerías y similares                                  1\n",
       "Sanitarios públicos y bolerías                                                                     1\n",
       "Alquiler sin intermediación de oficinas y locales comerciales                                      1\n",
       "Restaurantes con servicio de preparación de antojitos                                              1\n",
       "Consultorios de medicina especializada del sector privado                                          1\n",
       "Comercio al por menor de revistas y periódicos                                                     1\n",
       "Comercio al por menor de artículos religiosos                                                      1\n",
       "Asociaciones y organizaciones religiosas                                                           1\n",
       "Comercio al por menor de paletas de hielo y helados                                                1\n",
       "Administración pública en general                                                                  1\n",
       "Name: count, dtype: int64"
      ]
     },
     "execution_count": 33,
     "metadata": {},
     "output_type": "execute_result"
    }
   ],
   "source": [
    "buscar_dataframe['Clase_actividad'].value_counts()"
   ]
  },
  {
   "cell_type": "code",
   "execution_count": null,
   "metadata": {
    "id": "z5e4ZG0km1s1"
   },
   "outputs": [],
   "source": []
  }
 ],
 "metadata": {
  "colab": {
   "provenance": []
  },
  "kernelspec": {
   "display_name": "fundamentos-ingenieria-datos",
   "language": "python",
   "name": "python3"
  },
  "language_info": {
   "codemirror_mode": {
    "name": "ipython",
    "version": 3
   },
   "file_extension": ".py",
   "mimetype": "text/x-python",
   "name": "python",
   "nbconvert_exporter": "python",
   "pygments_lexer": "ipython3",
   "version": "3.13.7"
  }
 },
 "nbformat": 4,
 "nbformat_minor": 0
}
